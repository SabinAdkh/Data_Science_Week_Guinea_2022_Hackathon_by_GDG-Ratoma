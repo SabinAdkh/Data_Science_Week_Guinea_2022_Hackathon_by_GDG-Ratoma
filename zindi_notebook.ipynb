{
 "cells": [
  {
   "cell_type": "code",
   "execution_count": 1,
   "id": "4debc831-115a-4a1a-9c18-9d77136c231d",
   "metadata": {},
   "outputs": [],
   "source": [
    "import pandas as pd\n",
    "import numpy as np"
   ]
  },
  {
   "cell_type": "code",
   "execution_count": 2,
   "id": "5d8d7487-b38e-4914-a90e-59a676e612c5",
   "metadata": {},
   "outputs": [],
   "source": [
    "train = pd.read_csv(\"Train.csv\") # Train.csv\n",
    "test = pd.read_csv(\"Test.csv\") # Test.csv"
   ]
  },
  {
   "cell_type": "code",
   "execution_count": 3,
   "id": "f61c258c-4856-44e5-adb6-1cd47f3a0e7e",
   "metadata": {},
   "outputs": [
    {
     "name": "stdout",
     "output_type": "stream",
     "text": [
      "<class 'pandas.core.frame.DataFrame'>\n",
      "RangeIndex: 14016 entries, 0 to 14015\n",
      "Data columns (total 17 columns):\n",
      " #   Column                                    Non-Null Count  Dtype  \n",
      "---  ------                                    --------------  -----  \n",
      " 0   ID                                        14016 non-null  object \n",
      " 1   countryCode                               14016 non-null  int64  \n",
      " 2   year                                      14016 non-null  int64  \n",
      " 3   sex                                       14016 non-null  object \n",
      " 4   agefrom                                   14016 non-null  int64  \n",
      " 5   ageto                                     14016 non-null  int64  \n",
      " 6   percentage_no_schooling                   14016 non-null  float64\n",
      " 7   percentage_primary_schooling              14016 non-null  float64\n",
      " 8   percentage_primary_schooling_completed    14016 non-null  float64\n",
      " 9   percentage_secondary_schooling            14016 non-null  float64\n",
      " 10  percentage_secondary_schooling_completed  14016 non-null  float64\n",
      " 11  percentage_tertiary_schooling             14016 non-null  float64\n",
      " 12  percentage_tertiary_schooling_completed   14016 non-null  float64\n",
      " 13  yr_sch                                    14016 non-null  float64\n",
      " 14  region_code                               14016 non-null  object \n",
      " 15  literate_pop                              14016 non-null  float64\n",
      " 16  target                                    14016 non-null  float64\n",
      "dtypes: float64(10), int64(4), object(3)\n",
      "memory usage: 1.8+ MB\n"
     ]
    }
   ],
   "source": [
    "train.info()"
   ]
  },
  {
   "cell_type": "code",
   "execution_count": 4,
   "id": "2d30d406-711d-46c1-914a-d808ec7d41a2",
   "metadata": {},
   "outputs": [
    {
     "name": "stdout",
     "output_type": "stream",
     "text": [
      "<class 'pandas.core.frame.DataFrame'>\n",
      "RangeIndex: 1168 entries, 0 to 1167\n",
      "Data columns (total 16 columns):\n",
      " #   Column                                    Non-Null Count  Dtype  \n",
      "---  ------                                    --------------  -----  \n",
      " 0   ID                                        1168 non-null   object \n",
      " 1   countryCode                               1168 non-null   int64  \n",
      " 2   year                                      1168 non-null   int64  \n",
      " 3   sex                                       1168 non-null   object \n",
      " 4   agefrom                                   1168 non-null   int64  \n",
      " 5   ageto                                     1168 non-null   int64  \n",
      " 6   percentage_no_schooling                   1168 non-null   float64\n",
      " 7   percentage_primary_schooling              1168 non-null   float64\n",
      " 8   percentage_primary_schooling_completed    1168 non-null   float64\n",
      " 9   percentage_secondary_schooling            1168 non-null   float64\n",
      " 10  percentage_secondary_schooling_completed  1168 non-null   float64\n",
      " 11  percentage_tertiary_schooling             1168 non-null   float64\n",
      " 12  percentage_tertiary_schooling_completed   1168 non-null   float64\n",
      " 13  yr_sch                                    1168 non-null   float64\n",
      " 14  region_code                               1168 non-null   object \n",
      " 15  literate_pop                              1168 non-null   float64\n",
      "dtypes: float64(9), int64(4), object(3)\n",
      "memory usage: 146.1+ KB\n"
     ]
    }
   ],
   "source": [
    "test.info()"
   ]
  },
  {
   "cell_type": "code",
   "execution_count": 5,
   "id": "ffb712e6-5be3-43b6-b18b-e1cf2b618a82",
   "metadata": {},
   "outputs": [
    {
     "data": {
      "text/html": [
       "<div>\n",
       "<style scoped>\n",
       "    .dataframe tbody tr th:only-of-type {\n",
       "        vertical-align: middle;\n",
       "    }\n",
       "\n",
       "    .dataframe tbody tr th {\n",
       "        vertical-align: top;\n",
       "    }\n",
       "\n",
       "    .dataframe thead th {\n",
       "        text-align: right;\n",
       "    }\n",
       "</style>\n",
       "<table border=\"1\" class=\"dataframe\">\n",
       "  <thead>\n",
       "    <tr style=\"text-align: right;\">\n",
       "      <th></th>\n",
       "      <th>count</th>\n",
       "      <th>mean</th>\n",
       "      <th>std</th>\n",
       "      <th>min</th>\n",
       "      <th>25%</th>\n",
       "      <th>50%</th>\n",
       "      <th>75%</th>\n",
       "      <th>max</th>\n",
       "    </tr>\n",
       "  </thead>\n",
       "  <tbody>\n",
       "    <tr>\n",
       "      <th>countryCode</th>\n",
       "      <td>14016.0</td>\n",
       "      <td>112.212329</td>\n",
       "      <td>90.990390</td>\n",
       "      <td>1.000000</td>\n",
       "      <td>50.000000</td>\n",
       "      <td>91.500000</td>\n",
       "      <td>131.000000</td>\n",
       "      <td>3.580000e+02</td>\n",
       "    </tr>\n",
       "    <tr>\n",
       "      <th>year</th>\n",
       "      <td>14016.0</td>\n",
       "      <td>1977.500000</td>\n",
       "      <td>17.260878</td>\n",
       "      <td>1950.000000</td>\n",
       "      <td>1963.750000</td>\n",
       "      <td>1977.500000</td>\n",
       "      <td>1991.250000</td>\n",
       "      <td>2.005000e+03</td>\n",
       "    </tr>\n",
       "    <tr>\n",
       "      <th>agefrom</th>\n",
       "      <td>14016.0</td>\n",
       "      <td>20.000000</td>\n",
       "      <td>5.000178</td>\n",
       "      <td>15.000000</td>\n",
       "      <td>15.000000</td>\n",
       "      <td>20.000000</td>\n",
       "      <td>25.000000</td>\n",
       "      <td>2.500000e+01</td>\n",
       "    </tr>\n",
       "    <tr>\n",
       "      <th>ageto</th>\n",
       "      <td>14016.0</td>\n",
       "      <td>999.000000</td>\n",
       "      <td>0.000000</td>\n",
       "      <td>999.000000</td>\n",
       "      <td>999.000000</td>\n",
       "      <td>999.000000</td>\n",
       "      <td>999.000000</td>\n",
       "      <td>9.990000e+02</td>\n",
       "    </tr>\n",
       "    <tr>\n",
       "      <th>percentage_no_schooling</th>\n",
       "      <td>14016.0</td>\n",
       "      <td>35.058990</td>\n",
       "      <td>30.836316</td>\n",
       "      <td>0.003333</td>\n",
       "      <td>6.200000</td>\n",
       "      <td>26.387917</td>\n",
       "      <td>60.120833</td>\n",
       "      <td>1.000000e+02</td>\n",
       "    </tr>\n",
       "    <tr>\n",
       "      <th>percentage_primary_schooling</th>\n",
       "      <td>14016.0</td>\n",
       "      <td>35.081346</td>\n",
       "      <td>20.827921</td>\n",
       "      <td>0.000000</td>\n",
       "      <td>17.710000</td>\n",
       "      <td>34.035000</td>\n",
       "      <td>49.870000</td>\n",
       "      <td>9.438000e+01</td>\n",
       "    </tr>\n",
       "    <tr>\n",
       "      <th>percentage_primary_schooling_completed</th>\n",
       "      <td>14016.0</td>\n",
       "      <td>18.336662</td>\n",
       "      <td>14.543279</td>\n",
       "      <td>0.000000</td>\n",
       "      <td>6.830000</td>\n",
       "      <td>15.235000</td>\n",
       "      <td>26.315000</td>\n",
       "      <td>8.526667e+01</td>\n",
       "    </tr>\n",
       "    <tr>\n",
       "      <th>percentage_secondary_schooling</th>\n",
       "      <td>14016.0</td>\n",
       "      <td>24.148922</td>\n",
       "      <td>20.248127</td>\n",
       "      <td>0.000000</td>\n",
       "      <td>6.820000</td>\n",
       "      <td>19.150000</td>\n",
       "      <td>37.650833</td>\n",
       "      <td>9.394333e+01</td>\n",
       "    </tr>\n",
       "    <tr>\n",
       "      <th>percentage_secondary_schooling_completed</th>\n",
       "      <td>14016.0</td>\n",
       "      <td>12.448905</td>\n",
       "      <td>13.100393</td>\n",
       "      <td>0.000000</td>\n",
       "      <td>2.470000</td>\n",
       "      <td>7.640000</td>\n",
       "      <td>18.760000</td>\n",
       "      <td>7.726000e+01</td>\n",
       "    </tr>\n",
       "    <tr>\n",
       "      <th>percentage_tertiary_schooling</th>\n",
       "      <td>14016.0</td>\n",
       "      <td>5.708469</td>\n",
       "      <td>7.103030</td>\n",
       "      <td>0.000000</td>\n",
       "      <td>0.850000</td>\n",
       "      <td>2.980000</td>\n",
       "      <td>8.150000</td>\n",
       "      <td>5.729000e+01</td>\n",
       "    </tr>\n",
       "    <tr>\n",
       "      <th>percentage_tertiary_schooling_completed</th>\n",
       "      <td>14016.0</td>\n",
       "      <td>3.394752</td>\n",
       "      <td>4.263788</td>\n",
       "      <td>0.000000</td>\n",
       "      <td>0.450000</td>\n",
       "      <td>1.730000</td>\n",
       "      <td>4.750000</td>\n",
       "      <td>3.101000e+01</td>\n",
       "    </tr>\n",
       "    <tr>\n",
       "      <th>yr_sch</th>\n",
       "      <td>14016.0</td>\n",
       "      <td>5.035554</td>\n",
       "      <td>3.182527</td>\n",
       "      <td>0.000000</td>\n",
       "      <td>2.290000</td>\n",
       "      <td>4.740000</td>\n",
       "      <td>7.540000</td>\n",
       "      <td>1.328000e+01</td>\n",
       "    </tr>\n",
       "    <tr>\n",
       "      <th>literate_pop</th>\n",
       "      <td>14016.0</td>\n",
       "      <td>10282.932434</td>\n",
       "      <td>45039.965145</td>\n",
       "      <td>0.000000</td>\n",
       "      <td>305.000000</td>\n",
       "      <td>1391.000000</td>\n",
       "      <td>5393.750000</td>\n",
       "      <td>1.377328e+06</td>\n",
       "    </tr>\n",
       "    <tr>\n",
       "      <th>target</th>\n",
       "      <td>14016.0</td>\n",
       "      <td>64.819575</td>\n",
       "      <td>30.862859</td>\n",
       "      <td>0.000000</td>\n",
       "      <td>39.845469</td>\n",
       "      <td>73.493041</td>\n",
       "      <td>93.704484</td>\n",
       "      <td>1.000375e+02</td>\n",
       "    </tr>\n",
       "  </tbody>\n",
       "</table>\n",
       "</div>"
      ],
      "text/plain": [
       "                                            count          mean           std  \\\n",
       "countryCode                               14016.0    112.212329     90.990390   \n",
       "year                                      14016.0   1977.500000     17.260878   \n",
       "agefrom                                   14016.0     20.000000      5.000178   \n",
       "ageto                                     14016.0    999.000000      0.000000   \n",
       "percentage_no_schooling                   14016.0     35.058990     30.836316   \n",
       "percentage_primary_schooling              14016.0     35.081346     20.827921   \n",
       "percentage_primary_schooling_completed    14016.0     18.336662     14.543279   \n",
       "percentage_secondary_schooling            14016.0     24.148922     20.248127   \n",
       "percentage_secondary_schooling_completed  14016.0     12.448905     13.100393   \n",
       "percentage_tertiary_schooling             14016.0      5.708469      7.103030   \n",
       "percentage_tertiary_schooling_completed   14016.0      3.394752      4.263788   \n",
       "yr_sch                                    14016.0      5.035554      3.182527   \n",
       "literate_pop                              14016.0  10282.932434  45039.965145   \n",
       "target                                    14016.0     64.819575     30.862859   \n",
       "\n",
       "                                                  min          25%  \\\n",
       "countryCode                                  1.000000    50.000000   \n",
       "year                                      1950.000000  1963.750000   \n",
       "agefrom                                     15.000000    15.000000   \n",
       "ageto                                      999.000000   999.000000   \n",
       "percentage_no_schooling                      0.003333     6.200000   \n",
       "percentage_primary_schooling                 0.000000    17.710000   \n",
       "percentage_primary_schooling_completed       0.000000     6.830000   \n",
       "percentage_secondary_schooling               0.000000     6.820000   \n",
       "percentage_secondary_schooling_completed     0.000000     2.470000   \n",
       "percentage_tertiary_schooling                0.000000     0.850000   \n",
       "percentage_tertiary_schooling_completed      0.000000     0.450000   \n",
       "yr_sch                                       0.000000     2.290000   \n",
       "literate_pop                                 0.000000   305.000000   \n",
       "target                                       0.000000    39.845469   \n",
       "\n",
       "                                                  50%          75%  \\\n",
       "countryCode                                 91.500000   131.000000   \n",
       "year                                      1977.500000  1991.250000   \n",
       "agefrom                                     20.000000    25.000000   \n",
       "ageto                                      999.000000   999.000000   \n",
       "percentage_no_schooling                     26.387917    60.120833   \n",
       "percentage_primary_schooling                34.035000    49.870000   \n",
       "percentage_primary_schooling_completed      15.235000    26.315000   \n",
       "percentage_secondary_schooling              19.150000    37.650833   \n",
       "percentage_secondary_schooling_completed     7.640000    18.760000   \n",
       "percentage_tertiary_schooling                2.980000     8.150000   \n",
       "percentage_tertiary_schooling_completed      1.730000     4.750000   \n",
       "yr_sch                                       4.740000     7.540000   \n",
       "literate_pop                              1391.000000  5393.750000   \n",
       "target                                      73.493041    93.704484   \n",
       "\n",
       "                                                   max  \n",
       "countryCode                               3.580000e+02  \n",
       "year                                      2.005000e+03  \n",
       "agefrom                                   2.500000e+01  \n",
       "ageto                                     9.990000e+02  \n",
       "percentage_no_schooling                   1.000000e+02  \n",
       "percentage_primary_schooling              9.438000e+01  \n",
       "percentage_primary_schooling_completed    8.526667e+01  \n",
       "percentage_secondary_schooling            9.394333e+01  \n",
       "percentage_secondary_schooling_completed  7.726000e+01  \n",
       "percentage_tertiary_schooling             5.729000e+01  \n",
       "percentage_tertiary_schooling_completed   3.101000e+01  \n",
       "yr_sch                                    1.328000e+01  \n",
       "literate_pop                              1.377328e+06  \n",
       "target                                    1.000375e+02  "
      ]
     },
     "execution_count": 5,
     "metadata": {},
     "output_type": "execute_result"
    }
   ],
   "source": [
    "train.describe().T"
   ]
  },
  {
   "cell_type": "code",
   "execution_count": 6,
   "id": "8b470634-933d-419e-a629-878aa7bd89c9",
   "metadata": {},
   "outputs": [
    {
     "data": {
      "text/html": [
       "<div>\n",
       "<style scoped>\n",
       "    .dataframe tbody tr th:only-of-type {\n",
       "        vertical-align: middle;\n",
       "    }\n",
       "\n",
       "    .dataframe tbody tr th {\n",
       "        vertical-align: top;\n",
       "    }\n",
       "\n",
       "    .dataframe thead th {\n",
       "        text-align: right;\n",
       "    }\n",
       "</style>\n",
       "<table border=\"1\" class=\"dataframe\">\n",
       "  <thead>\n",
       "    <tr style=\"text-align: right;\">\n",
       "      <th></th>\n",
       "      <th>count</th>\n",
       "      <th>mean</th>\n",
       "      <th>std</th>\n",
       "      <th>min</th>\n",
       "      <th>25%</th>\n",
       "      <th>50%</th>\n",
       "      <th>75%</th>\n",
       "      <th>max</th>\n",
       "    </tr>\n",
       "  </thead>\n",
       "  <tbody>\n",
       "    <tr>\n",
       "      <th>countryCode</th>\n",
       "      <td>1168.0</td>\n",
       "      <td>112.212329</td>\n",
       "      <td>91.026119</td>\n",
       "      <td>1.00</td>\n",
       "      <td>50.000000</td>\n",
       "      <td>91.500000</td>\n",
       "      <td>131.000000</td>\n",
       "      <td>358.00</td>\n",
       "    </tr>\n",
       "    <tr>\n",
       "      <th>year</th>\n",
       "      <td>1168.0</td>\n",
       "      <td>2010.000000</td>\n",
       "      <td>0.000000</td>\n",
       "      <td>2010.00</td>\n",
       "      <td>2010.000000</td>\n",
       "      <td>2010.000000</td>\n",
       "      <td>2010.000000</td>\n",
       "      <td>2010.00</td>\n",
       "    </tr>\n",
       "    <tr>\n",
       "      <th>agefrom</th>\n",
       "      <td>1168.0</td>\n",
       "      <td>20.000000</td>\n",
       "      <td>5.002142</td>\n",
       "      <td>15.00</td>\n",
       "      <td>15.000000</td>\n",
       "      <td>20.000000</td>\n",
       "      <td>25.000000</td>\n",
       "      <td>25.00</td>\n",
       "    </tr>\n",
       "    <tr>\n",
       "      <th>ageto</th>\n",
       "      <td>1168.0</td>\n",
       "      <td>999.000000</td>\n",
       "      <td>0.000000</td>\n",
       "      <td>999.00</td>\n",
       "      <td>999.000000</td>\n",
       "      <td>999.000000</td>\n",
       "      <td>999.000000</td>\n",
       "      <td>999.00</td>\n",
       "    </tr>\n",
       "    <tr>\n",
       "      <th>percentage_no_schooling</th>\n",
       "      <td>1168.0</td>\n",
       "      <td>16.075576</td>\n",
       "      <td>20.187487</td>\n",
       "      <td>0.00</td>\n",
       "      <td>1.630000</td>\n",
       "      <td>6.347083</td>\n",
       "      <td>23.582500</td>\n",
       "      <td>87.12</td>\n",
       "    </tr>\n",
       "    <tr>\n",
       "      <th>percentage_primary_schooling</th>\n",
       "      <td>1168.0</td>\n",
       "      <td>25.075659</td>\n",
       "      <td>16.575323</td>\n",
       "      <td>0.03</td>\n",
       "      <td>11.185000</td>\n",
       "      <td>22.605000</td>\n",
       "      <td>36.911875</td>\n",
       "      <td>74.29</td>\n",
       "    </tr>\n",
       "    <tr>\n",
       "      <th>percentage_primary_schooling_completed</th>\n",
       "      <td>1168.0</td>\n",
       "      <td>15.217110</td>\n",
       "      <td>10.464575</td>\n",
       "      <td>0.02</td>\n",
       "      <td>6.764583</td>\n",
       "      <td>13.610000</td>\n",
       "      <td>21.415000</td>\n",
       "      <td>56.08</td>\n",
       "    </tr>\n",
       "    <tr>\n",
       "      <th>percentage_secondary_schooling</th>\n",
       "      <td>1168.0</td>\n",
       "      <td>45.109544</td>\n",
       "      <td>21.545591</td>\n",
       "      <td>1.05</td>\n",
       "      <td>28.262500</td>\n",
       "      <td>44.745000</td>\n",
       "      <td>60.895000</td>\n",
       "      <td>92.13</td>\n",
       "    </tr>\n",
       "    <tr>\n",
       "      <th>percentage_secondary_schooling_completed</th>\n",
       "      <td>1168.0</td>\n",
       "      <td>26.675677</td>\n",
       "      <td>16.698966</td>\n",
       "      <td>0.61</td>\n",
       "      <td>13.787500</td>\n",
       "      <td>23.980000</td>\n",
       "      <td>37.480000</td>\n",
       "      <td>75.83</td>\n",
       "    </tr>\n",
       "    <tr>\n",
       "      <th>percentage_tertiary_schooling</th>\n",
       "      <td>1168.0</td>\n",
       "      <td>13.741625</td>\n",
       "      <td>12.062772</td>\n",
       "      <td>0.00</td>\n",
       "      <td>3.699167</td>\n",
       "      <td>11.160000</td>\n",
       "      <td>20.122500</td>\n",
       "      <td>63.84</td>\n",
       "    </tr>\n",
       "    <tr>\n",
       "      <th>percentage_tertiary_schooling_completed</th>\n",
       "      <td>1168.0</td>\n",
       "      <td>8.346320</td>\n",
       "      <td>7.619497</td>\n",
       "      <td>0.00</td>\n",
       "      <td>1.917500</td>\n",
       "      <td>6.411250</td>\n",
       "      <td>12.703333</td>\n",
       "      <td>39.96</td>\n",
       "    </tr>\n",
       "    <tr>\n",
       "      <th>yr_sch</th>\n",
       "      <td>1168.0</td>\n",
       "      <td>8.194171</td>\n",
       "      <td>2.979299</td>\n",
       "      <td>0.79</td>\n",
       "      <td>5.955000</td>\n",
       "      <td>8.490000</td>\n",
       "      <td>10.707500</td>\n",
       "      <td>13.89</td>\n",
       "    </tr>\n",
       "    <tr>\n",
       "      <th>literate_pop</th>\n",
       "      <td>1168.0</td>\n",
       "      <td>21713.945205</td>\n",
       "      <td>88707.553843</td>\n",
       "      <td>21.00</td>\n",
       "      <td>1291.750000</td>\n",
       "      <td>3837.500000</td>\n",
       "      <td>12924.250000</td>\n",
       "      <td>1572220.00</td>\n",
       "    </tr>\n",
       "  </tbody>\n",
       "</table>\n",
       "</div>"
      ],
      "text/plain": [
       "                                           count          mean           std  \\\n",
       "countryCode                               1168.0    112.212329     91.026119   \n",
       "year                                      1168.0   2010.000000      0.000000   \n",
       "agefrom                                   1168.0     20.000000      5.002142   \n",
       "ageto                                     1168.0    999.000000      0.000000   \n",
       "percentage_no_schooling                   1168.0     16.075576     20.187487   \n",
       "percentage_primary_schooling              1168.0     25.075659     16.575323   \n",
       "percentage_primary_schooling_completed    1168.0     15.217110     10.464575   \n",
       "percentage_secondary_schooling            1168.0     45.109544     21.545591   \n",
       "percentage_secondary_schooling_completed  1168.0     26.675677     16.698966   \n",
       "percentage_tertiary_schooling             1168.0     13.741625     12.062772   \n",
       "percentage_tertiary_schooling_completed   1168.0      8.346320      7.619497   \n",
       "yr_sch                                    1168.0      8.194171      2.979299   \n",
       "literate_pop                              1168.0  21713.945205  88707.553843   \n",
       "\n",
       "                                              min          25%          50%  \\\n",
       "countryCode                                  1.00    50.000000    91.500000   \n",
       "year                                      2010.00  2010.000000  2010.000000   \n",
       "agefrom                                     15.00    15.000000    20.000000   \n",
       "ageto                                      999.00   999.000000   999.000000   \n",
       "percentage_no_schooling                      0.00     1.630000     6.347083   \n",
       "percentage_primary_schooling                 0.03    11.185000    22.605000   \n",
       "percentage_primary_schooling_completed       0.02     6.764583    13.610000   \n",
       "percentage_secondary_schooling               1.05    28.262500    44.745000   \n",
       "percentage_secondary_schooling_completed     0.61    13.787500    23.980000   \n",
       "percentage_tertiary_schooling                0.00     3.699167    11.160000   \n",
       "percentage_tertiary_schooling_completed      0.00     1.917500     6.411250   \n",
       "yr_sch                                       0.79     5.955000     8.490000   \n",
       "literate_pop                                21.00  1291.750000  3837.500000   \n",
       "\n",
       "                                                   75%         max  \n",
       "countryCode                                 131.000000      358.00  \n",
       "year                                       2010.000000     2010.00  \n",
       "agefrom                                      25.000000       25.00  \n",
       "ageto                                       999.000000      999.00  \n",
       "percentage_no_schooling                      23.582500       87.12  \n",
       "percentage_primary_schooling                 36.911875       74.29  \n",
       "percentage_primary_schooling_completed       21.415000       56.08  \n",
       "percentage_secondary_schooling               60.895000       92.13  \n",
       "percentage_secondary_schooling_completed     37.480000       75.83  \n",
       "percentage_tertiary_schooling                20.122500       63.84  \n",
       "percentage_tertiary_schooling_completed      12.703333       39.96  \n",
       "yr_sch                                       10.707500       13.89  \n",
       "literate_pop                              12924.250000  1572220.00  "
      ]
     },
     "execution_count": 6,
     "metadata": {},
     "output_type": "execute_result"
    }
   ],
   "source": [
    "test.describe().T"
   ]
  },
  {
   "cell_type": "code",
   "execution_count": 7,
   "id": "38c51eb7-4103-4273-af69-5ec82a4ac5c5",
   "metadata": {},
   "outputs": [
    {
     "data": {
      "text/html": [
       "<div>\n",
       "<style scoped>\n",
       "    .dataframe tbody tr th:only-of-type {\n",
       "        vertical-align: middle;\n",
       "    }\n",
       "\n",
       "    .dataframe tbody tr th {\n",
       "        vertical-align: top;\n",
       "    }\n",
       "\n",
       "    .dataframe thead th {\n",
       "        text-align: right;\n",
       "    }\n",
       "</style>\n",
       "<table border=\"1\" class=\"dataframe\">\n",
       "  <thead>\n",
       "    <tr style=\"text-align: right;\">\n",
       "      <th></th>\n",
       "      <th>ID</th>\n",
       "      <th>countryCode</th>\n",
       "      <th>year</th>\n",
       "      <th>sex</th>\n",
       "      <th>agefrom</th>\n",
       "      <th>ageto</th>\n",
       "      <th>percentage_no_schooling</th>\n",
       "      <th>percentage_primary_schooling</th>\n",
       "      <th>percentage_primary_schooling_completed</th>\n",
       "      <th>percentage_secondary_schooling</th>\n",
       "      <th>percentage_secondary_schooling_completed</th>\n",
       "      <th>percentage_tertiary_schooling</th>\n",
       "      <th>percentage_tertiary_schooling_completed</th>\n",
       "      <th>yr_sch</th>\n",
       "      <th>region_code</th>\n",
       "      <th>literate_pop</th>\n",
       "      <th>target</th>\n",
       "    </tr>\n",
       "  </thead>\n",
       "  <tbody>\n",
       "    <tr>\n",
       "      <th>0</th>\n",
       "      <td>ID_00AMK8K</td>\n",
       "      <td>155</td>\n",
       "      <td>1990</td>\n",
       "      <td>MF</td>\n",
       "      <td>15</td>\n",
       "      <td>999</td>\n",
       "      <td>8.3900</td>\n",
       "      <td>26.270000</td>\n",
       "      <td>15.830000</td>\n",
       "      <td>58.570000</td>\n",
       "      <td>26.420000</td>\n",
       "      <td>6.770000</td>\n",
       "      <td>4.400000</td>\n",
       "      <td>8.540000</td>\n",
       "      <td>Latin America and the Caribbean</td>\n",
       "      <td>7435.0</td>\n",
       "      <td>91.609167</td>\n",
       "    </tr>\n",
       "    <tr>\n",
       "      <th>1</th>\n",
       "      <td>ID_00ANS9C</td>\n",
       "      <td>115</td>\n",
       "      <td>2005</td>\n",
       "      <td>MF</td>\n",
       "      <td>25</td>\n",
       "      <td>999</td>\n",
       "      <td>0.6325</td>\n",
       "      <td>6.980833</td>\n",
       "      <td>6.363333</td>\n",
       "      <td>77.683333</td>\n",
       "      <td>49.995833</td>\n",
       "      <td>14.700833</td>\n",
       "      <td>13.546667</td>\n",
       "      <td>11.631667</td>\n",
       "      <td>Europe and Central Asia</td>\n",
       "      <td>14350.0</td>\n",
       "      <td>99.362969</td>\n",
       "    </tr>\n",
       "    <tr>\n",
       "      <th>2</th>\n",
       "      <td>ID_00AQU1S</td>\n",
       "      <td>30</td>\n",
       "      <td>2000</td>\n",
       "      <td>M</td>\n",
       "      <td>15</td>\n",
       "      <td>999</td>\n",
       "      <td>68.5300</td>\n",
       "      <td>26.320000</td>\n",
       "      <td>16.020000</td>\n",
       "      <td>4.620000</td>\n",
       "      <td>2.320000</td>\n",
       "      <td>0.540000</td>\n",
       "      <td>0.310000</td>\n",
       "      <td>1.550000</td>\n",
       "      <td>Sub-Saharan Africa</td>\n",
       "      <td>1458.0</td>\n",
       "      <td>31.469890</td>\n",
       "    </tr>\n",
       "  </tbody>\n",
       "</table>\n",
       "</div>"
      ],
      "text/plain": [
       "           ID  countryCode  year sex  agefrom  ageto  percentage_no_schooling  \\\n",
       "0  ID_00AMK8K          155  1990  MF       15    999                   8.3900   \n",
       "1  ID_00ANS9C          115  2005  MF       25    999                   0.6325   \n",
       "2  ID_00AQU1S           30  2000   M       15    999                  68.5300   \n",
       "\n",
       "   percentage_primary_schooling  percentage_primary_schooling_completed  \\\n",
       "0                     26.270000                               15.830000   \n",
       "1                      6.980833                                6.363333   \n",
       "2                     26.320000                               16.020000   \n",
       "\n",
       "   percentage_secondary_schooling  percentage_secondary_schooling_completed  \\\n",
       "0                       58.570000                                 26.420000   \n",
       "1                       77.683333                                 49.995833   \n",
       "2                        4.620000                                  2.320000   \n",
       "\n",
       "   percentage_tertiary_schooling  percentage_tertiary_schooling_completed  \\\n",
       "0                       6.770000                                 4.400000   \n",
       "1                      14.700833                                13.546667   \n",
       "2                       0.540000                                 0.310000   \n",
       "\n",
       "      yr_sch                      region_code  literate_pop     target  \n",
       "0   8.540000  Latin America and the Caribbean        7435.0  91.609167  \n",
       "1  11.631667          Europe and Central Asia       14350.0  99.362969  \n",
       "2   1.550000               Sub-Saharan Africa        1458.0  31.469890  "
      ]
     },
     "execution_count": 7,
     "metadata": {},
     "output_type": "execute_result"
    }
   ],
   "source": [
    "train.head(3)"
   ]
  },
  {
   "cell_type": "code",
   "execution_count": 8,
   "id": "4aa8ffd2-50c0-4426-a5f1-dae8732e366d",
   "metadata": {},
   "outputs": [
    {
     "data": {
      "text/html": [
       "<div>\n",
       "<style scoped>\n",
       "    .dataframe tbody tr th:only-of-type {\n",
       "        vertical-align: middle;\n",
       "    }\n",
       "\n",
       "    .dataframe tbody tr th {\n",
       "        vertical-align: top;\n",
       "    }\n",
       "\n",
       "    .dataframe thead th {\n",
       "        text-align: right;\n",
       "    }\n",
       "</style>\n",
       "<table border=\"1\" class=\"dataframe\">\n",
       "  <thead>\n",
       "    <tr style=\"text-align: right;\">\n",
       "      <th></th>\n",
       "      <th>ID</th>\n",
       "      <th>countryCode</th>\n",
       "      <th>year</th>\n",
       "      <th>sex</th>\n",
       "      <th>agefrom</th>\n",
       "      <th>ageto</th>\n",
       "      <th>percentage_no_schooling</th>\n",
       "      <th>percentage_primary_schooling</th>\n",
       "      <th>percentage_primary_schooling_completed</th>\n",
       "      <th>percentage_secondary_schooling</th>\n",
       "      <th>percentage_secondary_schooling_completed</th>\n",
       "      <th>percentage_tertiary_schooling</th>\n",
       "      <th>percentage_tertiary_schooling_completed</th>\n",
       "      <th>yr_sch</th>\n",
       "      <th>region_code</th>\n",
       "      <th>literate_pop</th>\n",
       "    </tr>\n",
       "  </thead>\n",
       "  <tbody>\n",
       "    <tr>\n",
       "      <th>0</th>\n",
       "      <td>ID_00ILO0W</td>\n",
       "      <td>69</td>\n",
       "      <td>2010</td>\n",
       "      <td>MF</td>\n",
       "      <td>25</td>\n",
       "      <td>999</td>\n",
       "      <td>12.37</td>\n",
       "      <td>37.01</td>\n",
       "      <td>24.83</td>\n",
       "      <td>39.32</td>\n",
       "      <td>24.62</td>\n",
       "      <td>11.30</td>\n",
       "      <td>8.01</td>\n",
       "      <td>7.66</td>\n",
       "      <td>Latin America and the Caribbean</td>\n",
       "      <td>97760.0</td>\n",
       "    </tr>\n",
       "    <tr>\n",
       "      <th>1</th>\n",
       "      <td>ID_00KPO3Y</td>\n",
       "      <td>56</td>\n",
       "      <td>2010</td>\n",
       "      <td>M</td>\n",
       "      <td>15</td>\n",
       "      <td>999</td>\n",
       "      <td>16.77</td>\n",
       "      <td>54.94</td>\n",
       "      <td>24.52</td>\n",
       "      <td>28.27</td>\n",
       "      <td>13.55</td>\n",
       "      <td>0.03</td>\n",
       "      <td>0.02</td>\n",
       "      <td>5.32</td>\n",
       "      <td>Latin America and the Caribbean</td>\n",
       "      <td>3261.0</td>\n",
       "    </tr>\n",
       "    <tr>\n",
       "      <th>2</th>\n",
       "      <td>ID_00MLY2L</td>\n",
       "      <td>99</td>\n",
       "      <td>2010</td>\n",
       "      <td>M</td>\n",
       "      <td>25</td>\n",
       "      <td>999</td>\n",
       "      <td>11.60</td>\n",
       "      <td>30.36</td>\n",
       "      <td>17.55</td>\n",
       "      <td>44.61</td>\n",
       "      <td>25.21</td>\n",
       "      <td>13.43</td>\n",
       "      <td>9.16</td>\n",
       "      <td>8.27</td>\n",
       "      <td>Middle East and North Africa</td>\n",
       "      <td>6332.0</td>\n",
       "    </tr>\n",
       "  </tbody>\n",
       "</table>\n",
       "</div>"
      ],
      "text/plain": [
       "           ID  countryCode  year sex  agefrom  ageto  percentage_no_schooling  \\\n",
       "0  ID_00ILO0W           69  2010  MF       25    999                    12.37   \n",
       "1  ID_00KPO3Y           56  2010   M       15    999                    16.77   \n",
       "2  ID_00MLY2L           99  2010   M       25    999                    11.60   \n",
       "\n",
       "   percentage_primary_schooling  percentage_primary_schooling_completed  \\\n",
       "0                         37.01                                   24.83   \n",
       "1                         54.94                                   24.52   \n",
       "2                         30.36                                   17.55   \n",
       "\n",
       "   percentage_secondary_schooling  percentage_secondary_schooling_completed  \\\n",
       "0                           39.32                                     24.62   \n",
       "1                           28.27                                     13.55   \n",
       "2                           44.61                                     25.21   \n",
       "\n",
       "   percentage_tertiary_schooling  percentage_tertiary_schooling_completed  \\\n",
       "0                          11.30                                     8.01   \n",
       "1                           0.03                                     0.02   \n",
       "2                          13.43                                     9.16   \n",
       "\n",
       "   yr_sch                      region_code  literate_pop  \n",
       "0    7.66  Latin America and the Caribbean       97760.0  \n",
       "1    5.32  Latin America and the Caribbean        3261.0  \n",
       "2    8.27     Middle East and North Africa        6332.0  "
      ]
     },
     "execution_count": 8,
     "metadata": {},
     "output_type": "execute_result"
    }
   ],
   "source": [
    "test.head(3)"
   ]
  },
  {
   "cell_type": "code",
   "execution_count": 9,
   "id": "869b3067-a75f-4d58-842c-eaa1f235a787",
   "metadata": {},
   "outputs": [],
   "source": [
    "# \"ID\" variable of test dataset\n",
    "unique_id = test[\"ID\"]"
   ]
  },
  {
   "cell_type": "code",
   "execution_count": 10,
   "id": "17b399e7-87de-4465-bb10-9c985c321e81",
   "metadata": {},
   "outputs": [],
   "source": [
    "# Dropping ID and ageto column from both the dataset\n",
    "train1 = train.drop([\"ID\", \"ageto\"], axis='columns')\n",
    "test1 = test.drop([\"ID\", \"ageto\"], axis='columns')"
   ]
  },
  {
   "cell_type": "markdown",
   "id": "a22f964e-ba97-48a3-9e24-25fa81c63458",
   "metadata": {},
   "source": [
    "## Feature Engineering And Endoding"
   ]
  },
  {
   "cell_type": "code",
   "execution_count": 11,
   "id": "b80e9ad8-7b4b-4c25-bcc9-5e4b7344c1c5",
   "metadata": {},
   "outputs": [],
   "source": [
    "# train1['percentage_schooling'] = 100 - train1['percentage_no_schooling']\n",
    "# test1['percentage_schooling'] = 100 - test1['percentage_no_schooling']"
   ]
  },
  {
   "cell_type": "code",
   "execution_count": 12,
   "id": "45b70437-b37c-4508-a001-f23499fd81a1",
   "metadata": {},
   "outputs": [],
   "source": [
    "# train1['percentage_schooling_completed'] = (train1['percentage_primary_schooling_completed'] + train1['percentage_secondary_schooling_completed'] + train1['percentage_tertiary_schooling_completed'])\n",
    "# test1['percentage_schooling_completed'] = (test1['percentage_primary_schooling_completed'] + test1['percentage_secondary_schooling_completed'] + test1['percentage_tertiary_schooling_completed'])"
   ]
  },
  {
   "cell_type": "code",
   "execution_count": 13,
   "id": "2fe5b475-8357-434d-88cc-ed612aa4188f",
   "metadata": {},
   "outputs": [],
   "source": [
    "# train1['percentage_schooling_not_completed'] = 100 - train1['percentage_schooling_completed']\n",
    "# test1['percentage_schooling_not_completed'] = 100 - test1['percentage_schooling_completed']"
   ]
  },
  {
   "cell_type": "code",
   "execution_count": 14,
   "id": "5f8d787d-d883-4870-ba68-3e8dfd2460ac",
   "metadata": {},
   "outputs": [],
   "source": [
    "# Encoding categorical variables such as \"sex\" and \"region_code\" to 0 or 1 using get_dummies()\n",
    "train2 = pd.get_dummies(train1, drop_first=True)\n",
    "test2 = pd.get_dummies(test1, drop_first=True)"
   ]
  },
  {
   "cell_type": "code",
   "execution_count": 15,
   "id": "1d644756-7dba-45f5-8f19-1e3a4a683639",
   "metadata": {},
   "outputs": [
    {
     "data": {
      "text/plain": [
       "Index(['countryCode', 'year', 'agefrom', 'percentage_no_schooling',\n",
       "       'percentage_primary_schooling',\n",
       "       'percentage_primary_schooling_completed',\n",
       "       'percentage_secondary_schooling',\n",
       "       'percentage_secondary_schooling_completed',\n",
       "       'percentage_tertiary_schooling',\n",
       "       'percentage_tertiary_schooling_completed', 'yr_sch', 'literate_pop',\n",
       "       'sex_M', 'sex_MF', 'region_code_East Asia and the Pacific',\n",
       "       'region_code_Europe and Central Asia',\n",
       "       'region_code_Latin America and the Caribbean',\n",
       "       'region_code_Middle East and North Africa', 'region_code_South Asia',\n",
       "       'region_code_Sub-Saharan Africa'],\n",
       "      dtype='object')"
      ]
     },
     "execution_count": 15,
     "metadata": {},
     "output_type": "execute_result"
    }
   ],
   "source": [
    "test2.columns"
   ]
  },
  {
   "cell_type": "markdown",
   "id": "17a4bae8-7a0a-419d-a92f-2d0d0c36d40f",
   "metadata": {},
   "source": [
    "## Modelling"
   ]
  },
  {
   "cell_type": "code",
   "execution_count": 16,
   "id": "edc409f9-e444-495b-bd87-3c075e04c6a2",
   "metadata": {},
   "outputs": [],
   "source": [
    "from sklearn.preprocessing import StandardScaler\n",
    "from sklearn.model_selection import train_test_split\n",
    "from sklearn.metrics import mean_absolute_error\n",
    "from sklearn.linear_model import Ridge\n",
    "from sklearn.ensemble import RandomForestRegressor\n",
    "from sklearn.ensemble import GradientBoostingRegressor\n",
    "from xgboost import XGBRegressor\n",
    "from catboost import CatBoostRegressor\n",
    "from lightgbm import LGBMRegressor"
   ]
  },
  {
   "cell_type": "code",
   "execution_count": 17,
   "id": "274083d0-ee39-4943-be61-aec413aa9359",
   "metadata": {},
   "outputs": [],
   "source": [
    "# Separating features and target varialbes as X and y\n",
    "X = train2.drop('target', axis='columns')\n",
    "y = train2.target"
   ]
  },
  {
   "cell_type": "code",
   "execution_count": 18,
   "id": "db4f1c96-64cf-4f51-8571-0eb281452496",
   "metadata": {},
   "outputs": [],
   "source": [
    "# Splitting the dat into training and testing dataset\n",
    "X_train, X_test, y_train, y_test = train_test_split(X.values, y.values, test_size=0.05, random_state=42)"
   ]
  },
  {
   "cell_type": "code",
   "execution_count": 19,
   "id": "db052c7d-40bf-4851-a336-95c3e7f85cc2",
   "metadata": {},
   "outputs": [],
   "source": [
    "## Scaling the data\n",
    "# scaler = StandardScaler().fit(X_train)\n",
    "# X_train_scaled = scaler.transform(X_train)\n",
    "# X_test_scaled = scaler.transform(X_test)\n",
    "# test2_scaled = scaler.transform(test2)"
   ]
  },
  {
   "cell_type": "markdown",
   "id": "fe74ef2b-c1a6-4b4d-8406-9e9751cf242f",
   "metadata": {},
   "source": [
    "### CatBoost Regressor"
   ]
  },
  {
   "cell_type": "code",
   "execution_count": 20,
   "id": "1fcaeab4-30bb-4755-8f60-e779e53ded63",
   "metadata": {},
   "outputs": [],
   "source": [
    "## CatBoost Regressor\n",
    "cbr = CatBoostRegressor()\n",
    "cbr.fit(X_train, y_train, verbose=False)\n",
    "cbr_preds = cbr.predict(X_test)\n",
    "\n",
    "# cbr.fit(X_train_scaled, y_train, verbose=False)\n",
    "# cbr_preds = cbr.predict(X_test_scaled)"
   ]
  },
  {
   "cell_type": "code",
   "execution_count": 21,
   "id": "6a3c0478-ab55-45d1-9a1d-a386ea045440",
   "metadata": {},
   "outputs": [
    {
     "data": {
      "text/plain": [
       "0.21484211409568274"
      ]
     },
     "execution_count": 21,
     "metadata": {},
     "output_type": "execute_result"
    }
   ],
   "source": [
    "mean_absolute_error(y_test, cbr_preds)"
   ]
  },
  {
   "cell_type": "code",
   "execution_count": 22,
   "id": "7707d83a-2bef-4bfa-8e46-1075d7349c5e",
   "metadata": {},
   "outputs": [],
   "source": [
    "# Predicting values for test dataset\n",
    "cbr_preds_test = cbr.predict(test2)"
   ]
  },
  {
   "cell_type": "code",
   "execution_count": 23,
   "id": "adcf5b01-9226-472a-8128-51946ab0f761",
   "metadata": {},
   "outputs": [
    {
     "data": {
      "text/plain": [
       "array([87.69393912, 83.13415326, 88.41057111, ..., 96.61800363,\n",
       "       96.36275741, 99.29120102])"
      ]
     },
     "execution_count": 23,
     "metadata": {},
     "output_type": "execute_result"
    }
   ],
   "source": [
    "cbr_preds_test"
   ]
  },
  {
   "cell_type": "code",
   "execution_count": 24,
   "id": "5824a534-3c65-4fb8-9b3a-6487a823877f",
   "metadata": {},
   "outputs": [],
   "source": [
    "# # Creating a submission dataframe\n",
    "# cbr_submission = pd.DataFrame({\"ID\":unique_id,\n",
    "#                                  \"target\": cbr_preds_test})\n",
    "\n",
    "# # Saving the submission file\n",
    "# cbr_submission.to_csv(\"submission_cbr.csv\", index=False)\n"
   ]
  },
  {
   "cell_type": "markdown",
   "id": "b97e03a6-f185-46b6-bf4d-e0ed2e55e402",
   "metadata": {},
   "source": [
    "### LightGBM Regressor"
   ]
  },
  {
   "cell_type": "code",
   "execution_count": 25,
   "id": "716c380d-c81f-42a9-a388-9cc4b985741b",
   "metadata": {},
   "outputs": [],
   "source": [
    "lgbm = LGBMRegressor()\n",
    "lgbm.fit(X_train, y_train)\n",
    "lgbm_preds = cbr.predict(X_test)\n",
    "\n",
    "# lgbm.fit(X_train_scaled, y_train)\n",
    "# lgbm_preds = cbr.predict(X_test_scaled)"
   ]
  },
  {
   "cell_type": "code",
   "execution_count": 26,
   "id": "ca6e878a-ae8a-4afa-886b-cd28de9532b9",
   "metadata": {},
   "outputs": [
    {
     "data": {
      "text/plain": [
       "0.21484211409568274"
      ]
     },
     "execution_count": 26,
     "metadata": {},
     "output_type": "execute_result"
    }
   ],
   "source": [
    "mean_absolute_error(y_test, lgbm_preds)"
   ]
  },
  {
   "cell_type": "code",
   "execution_count": 27,
   "id": "92570470-6af7-4159-b5ca-61bd16f96fb9",
   "metadata": {},
   "outputs": [],
   "source": [
    "# Predicting values for test dataset\n",
    "lgbm_preds_test = lgbm.predict(test2) "
   ]
  },
  {
   "cell_type": "code",
   "execution_count": 28,
   "id": "c9a28f25-5e0e-4f1d-ad17-ca0da80c972c",
   "metadata": {},
   "outputs": [],
   "source": [
    "# # Creating a submission dataframe\n",
    "# submission = pd.DataFrame({\"ID\": unique_id,\n",
    "#                           \"target\": lgbm_preds_test})\n",
    "\n",
    "# # Saving the submission file\n",
    "# submission.to_csv(\"submission_lgbm.csv\", index=False)"
   ]
  },
  {
   "cell_type": "markdown",
   "id": "37b5af13-61ed-469a-be72-d50f52dd5389",
   "metadata": {},
   "source": [
    "## Random Forest"
   ]
  },
  {
   "cell_type": "code",
   "execution_count": 29,
   "id": "031f0e17-7750-4a65-9b42-fcd5c293f73b",
   "metadata": {},
   "outputs": [],
   "source": [
    "rf = RandomForestRegressor(random_state=42)\n",
    "rf.fit(X_train, y_train)\n",
    "rf_preds = rf.predict(X_test)\n",
    "\n",
    "# rf.fit(X_train_scaled, y_train)\n",
    "# rf_preds_scaled = rf.predict(X_test_scaled)"
   ]
  },
  {
   "cell_type": "code",
   "execution_count": 30,
   "id": "a94df48e-bac8-4151-aae1-4d3623334ecd",
   "metadata": {},
   "outputs": [
    {
     "data": {
      "text/plain": [
       "0.08693867885541605"
      ]
     },
     "execution_count": 30,
     "metadata": {},
     "output_type": "execute_result"
    }
   ],
   "source": [
    "mean_absolute_error(y_test, rf_preds)"
   ]
  },
  {
   "cell_type": "code",
   "execution_count": 31,
   "id": "366c45dd-3182-41db-ad83-fd829b353785",
   "metadata": {},
   "outputs": [
    {
     "name": "stderr",
     "output_type": "stream",
     "text": [
      "/home/sadkh/miniconda3/lib/python3.9/site-packages/sklearn/base.py:443: UserWarning: X has feature names, but RandomForestRegressor was fitted without feature names\n",
      "  warnings.warn(\n"
     ]
    }
   ],
   "source": [
    "# Predicting value for test dataset\n",
    "rf_preds_test = rf.predict(test2)"
   ]
  },
  {
   "cell_type": "code",
   "execution_count": 32,
   "id": "e5dbdb14-774b-4719-9b10-96759991e776",
   "metadata": {},
   "outputs": [],
   "source": [
    "# Creating a submission dataframe\n",
    "submission = pd.DataFrame({\"ID\": unique_id,\n",
    "                          \"target\":rf_preds_test})\n",
    "\n",
    "# Saving the submission file\n",
    "submission.to_csv(\"submission_ridge.csv\", index=False)"
   ]
  },
  {
   "cell_type": "markdown",
   "id": "a858e691-8a22-4256-a4f5-3675877f46fe",
   "metadata": {},
   "source": [
    "### Model that gave the best result : RandomForestRegressor\n",
    "### Submission_file_name: Submission_rigde.csv"
   ]
  },
  {
   "cell_type": "markdown",
   "id": "f7694549-c892-4555-b48a-7307561c18d6",
   "metadata": {},
   "source": [
    "## XGBoost Regressor"
   ]
  },
  {
   "cell_type": "code",
   "execution_count": 33,
   "id": "b6a614e2-b345-4dee-8220-671895064aca",
   "metadata": {},
   "outputs": [],
   "source": [
    "xgbr = XGBRegressor() \n",
    "xgbr.fit(X_train, y_train)\n",
    "xgbr_preds = xgbr.predict(X_test)"
   ]
  },
  {
   "cell_type": "code",
   "execution_count": 34,
   "id": "909dc551-403a-479c-a41b-a29dbb4e687f",
   "metadata": {},
   "outputs": [
    {
     "data": {
      "text/plain": [
       "0.12838175989742445"
      ]
     },
     "execution_count": 34,
     "metadata": {},
     "output_type": "execute_result"
    }
   ],
   "source": [
    "mean_absolute_error(y_test, xgbr_preds)"
   ]
  },
  {
   "cell_type": "code",
   "execution_count": 35,
   "id": "10ae766d-5e38-4fc8-82ce-d2a200820d8f",
   "metadata": {},
   "outputs": [],
   "source": [
    "# Predicting values for test dataset\n",
    "xgbr_preds_test = xgbr.predict(test2)"
   ]
  },
  {
   "cell_type": "code",
   "execution_count": 36,
   "id": "3894c9b3-bebd-40eb-8a79-097db4e65a91",
   "metadata": {},
   "outputs": [],
   "source": [
    "# # Creating a submission dataframe\n",
    "# submission = pd.DataFrame({\"ID\": unique_id,\n",
    "#                           \"target\": xgbr_preds_test})\n",
    "\n",
    "# # Saving the submission file\n",
    "# submission.to_csv(\"submission_xgbr.csv\", index=False)"
   ]
  },
  {
   "cell_type": "markdown",
   "id": "0dad2be3-5f8a-4175-bdc5-e8980be02b83",
   "metadata": {},
   "source": [
    "## GradientBoosting Regressor"
   ]
  },
  {
   "cell_type": "code",
   "execution_count": 37,
   "id": "23781855-ee15-4dc5-9d26-d7a95f60f5d9",
   "metadata": {},
   "outputs": [],
   "source": [
    "gbr = GradientBoostingRegressor(n_estimators=500, max_depth=7)\n",
    "gbr.fit(X_train, y_train)\n",
    "gbr_preds = gbr.predict(X_test)"
   ]
  },
  {
   "cell_type": "code",
   "execution_count": 38,
   "id": "9b5bd58c-6d3b-495d-bbbd-a07625cfb0cb",
   "metadata": {},
   "outputs": [
    {
     "data": {
      "text/plain": [
       "0.0861086058207722"
      ]
     },
     "execution_count": 38,
     "metadata": {},
     "output_type": "execute_result"
    }
   ],
   "source": [
    "mean_absolute_error(y_test, gbr_preds)"
   ]
  },
  {
   "cell_type": "code",
   "execution_count": 39,
   "id": "2e0325ec-ebd2-40f4-8401-e037df7a31b5",
   "metadata": {},
   "outputs": [
    {
     "name": "stderr",
     "output_type": "stream",
     "text": [
      "/home/sadkh/miniconda3/lib/python3.9/site-packages/sklearn/base.py:443: UserWarning: X has feature names, but GradientBoostingRegressor was fitted without feature names\n",
      "  warnings.warn(\n"
     ]
    }
   ],
   "source": [
    "# Predicting values for test dataset\n",
    "gbr_preds_test = gbr.predict(test2)"
   ]
  },
  {
   "cell_type": "code",
   "execution_count": 40,
   "id": "dc959a10-4e05-4282-8c9a-6821ddc62f09",
   "metadata": {},
   "outputs": [],
   "source": [
    "# # Creating a submission dataframe\n",
    "# submission = pd.DataFrame({\"ID\": unique_id,\n",
    "#                           \"target\": gbr_preds_test})\n",
    "\n",
    "# # Saving the submission file\n",
    "# submission.to_csv(\"gbr.csv\", index=False)"
   ]
  },
  {
   "cell_type": "markdown",
   "id": "5543aca7-2724-4e93-a58b-3c00e938649e",
   "metadata": {},
   "source": [
    "## Ridge Regression"
   ]
  },
  {
   "cell_type": "code",
   "execution_count": 41,
   "id": "e8812578-2c86-4ef6-b875-1ddaf53e204f",
   "metadata": {},
   "outputs": [],
   "source": [
    "ridge = Ridge()\n",
    "ridge.fit(X_train, y_train)\n",
    "ridge_preds = ridge.predict(X_test)"
   ]
  },
  {
   "cell_type": "code",
   "execution_count": 42,
   "id": "ab672e35-b507-4a50-8f51-02e2732e16cb",
   "metadata": {},
   "outputs": [
    {
     "data": {
      "text/plain": [
       "0.18078863056783434"
      ]
     },
     "execution_count": 42,
     "metadata": {},
     "output_type": "execute_result"
    }
   ],
   "source": [
    "mean_absolute_error(y_test, ridge_preds)"
   ]
  }
 ],
 "metadata": {
  "kernelspec": {
   "display_name": "Python 3 (ipykernel)",
   "language": "python",
   "name": "python3"
  },
  "language_info": {
   "codemirror_mode": {
    "name": "ipython",
    "version": 3
   },
   "file_extension": ".py",
   "mimetype": "text/x-python",
   "name": "python",
   "nbconvert_exporter": "python",
   "pygments_lexer": "ipython3",
   "version": "3.9.7"
  }
 },
 "nbformat": 4,
 "nbformat_minor": 5
}
