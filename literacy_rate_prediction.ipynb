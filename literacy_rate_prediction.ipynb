{
 "cells": [
  {
   "cell_type": "code",
   "execution_count": 1,
   "id": "6f10aab9-a086-4c80-a3f4-eefab42373f6",
   "metadata": {},
   "outputs": [],
   "source": [
    "import numpy as np\n",
    "import pandas as pd\n",
    "from pandas_profiling import profile_report\n",
    "import matplotlib.pyplot as plt\n",
    "import seaborn as sns\n",
    "\n",
    "%matplotlib inline"
   ]
  },
  {
   "cell_type": "code",
   "execution_count": 2,
   "id": "539f37e1-42cf-414a-a2e7-baf43352ab38",
   "metadata": {},
   "outputs": [],
   "source": [
    "train = pd.read_csv(\"Train.csv\")\n",
    "test = pd.read_csv(\"Test.csv\")"
   ]
  },
  {
   "cell_type": "code",
   "execution_count": 3,
   "id": "435c9907-dd62-4515-aa4a-b617d1a89618",
   "metadata": {},
   "outputs": [
    {
     "data": {
      "text/html": [
       "<div>\n",
       "<style scoped>\n",
       "    .dataframe tbody tr th:only-of-type {\n",
       "        vertical-align: middle;\n",
       "    }\n",
       "\n",
       "    .dataframe tbody tr th {\n",
       "        vertical-align: top;\n",
       "    }\n",
       "\n",
       "    .dataframe thead th {\n",
       "        text-align: right;\n",
       "    }\n",
       "</style>\n",
       "<table border=\"1\" class=\"dataframe\">\n",
       "  <thead>\n",
       "    <tr style=\"text-align: right;\">\n",
       "      <th></th>\n",
       "      <th>ID</th>\n",
       "      <th>countryCode</th>\n",
       "      <th>year</th>\n",
       "      <th>sex</th>\n",
       "      <th>agefrom</th>\n",
       "      <th>ageto</th>\n",
       "      <th>percentage_no_schooling</th>\n",
       "      <th>percentage_primary_schooling</th>\n",
       "      <th>percentage_primary_schooling_completed</th>\n",
       "      <th>percentage_secondary_schooling</th>\n",
       "      <th>percentage_secondary_schooling_completed</th>\n",
       "      <th>percentage_tertiary_schooling</th>\n",
       "      <th>percentage_tertiary_schooling_completed</th>\n",
       "      <th>yr_sch</th>\n",
       "      <th>region_code</th>\n",
       "      <th>literate_pop</th>\n",
       "      <th>target</th>\n",
       "    </tr>\n",
       "  </thead>\n",
       "  <tbody>\n",
       "    <tr>\n",
       "      <th>0</th>\n",
       "      <td>ID_00AMK8K</td>\n",
       "      <td>155</td>\n",
       "      <td>1990</td>\n",
       "      <td>MF</td>\n",
       "      <td>15</td>\n",
       "      <td>999</td>\n",
       "      <td>8.3900</td>\n",
       "      <td>26.270000</td>\n",
       "      <td>15.830000</td>\n",
       "      <td>58.570000</td>\n",
       "      <td>26.420000</td>\n",
       "      <td>6.770000</td>\n",
       "      <td>4.400000</td>\n",
       "      <td>8.540000</td>\n",
       "      <td>Latin America and the Caribbean</td>\n",
       "      <td>7435.0</td>\n",
       "      <td>91.609167</td>\n",
       "    </tr>\n",
       "    <tr>\n",
       "      <th>1</th>\n",
       "      <td>ID_00ANS9C</td>\n",
       "      <td>115</td>\n",
       "      <td>2005</td>\n",
       "      <td>MF</td>\n",
       "      <td>25</td>\n",
       "      <td>999</td>\n",
       "      <td>0.6325</td>\n",
       "      <td>6.980833</td>\n",
       "      <td>6.363333</td>\n",
       "      <td>77.683333</td>\n",
       "      <td>49.995833</td>\n",
       "      <td>14.700833</td>\n",
       "      <td>13.546667</td>\n",
       "      <td>11.631667</td>\n",
       "      <td>Europe and Central Asia</td>\n",
       "      <td>14350.0</td>\n",
       "      <td>99.362969</td>\n",
       "    </tr>\n",
       "    <tr>\n",
       "      <th>2</th>\n",
       "      <td>ID_00AQU1S</td>\n",
       "      <td>30</td>\n",
       "      <td>2000</td>\n",
       "      <td>M</td>\n",
       "      <td>15</td>\n",
       "      <td>999</td>\n",
       "      <td>68.5300</td>\n",
       "      <td>26.320000</td>\n",
       "      <td>16.020000</td>\n",
       "      <td>4.620000</td>\n",
       "      <td>2.320000</td>\n",
       "      <td>0.540000</td>\n",
       "      <td>0.310000</td>\n",
       "      <td>1.550000</td>\n",
       "      <td>Sub-Saharan Africa</td>\n",
       "      <td>1458.0</td>\n",
       "      <td>31.469890</td>\n",
       "    </tr>\n",
       "    <tr>\n",
       "      <th>3</th>\n",
       "      <td>ID_00AVQ7Q</td>\n",
       "      <td>143</td>\n",
       "      <td>1960</td>\n",
       "      <td>MF</td>\n",
       "      <td>15</td>\n",
       "      <td>999</td>\n",
       "      <td>12.5300</td>\n",
       "      <td>69.370000</td>\n",
       "      <td>49.260000</td>\n",
       "      <td>8.130000</td>\n",
       "      <td>1.100000</td>\n",
       "      <td>9.970000</td>\n",
       "      <td>5.510000</td>\n",
       "      <td>7.490000</td>\n",
       "      <td>Latin America and the Caribbean</td>\n",
       "      <td>45.0</td>\n",
       "      <td>86.538462</td>\n",
       "    </tr>\n",
       "    <tr>\n",
       "      <th>4</th>\n",
       "      <td>ID_00BAH2C</td>\n",
       "      <td>70</td>\n",
       "      <td>1955</td>\n",
       "      <td>MF</td>\n",
       "      <td>25</td>\n",
       "      <td>999</td>\n",
       "      <td>20.9800</td>\n",
       "      <td>55.900000</td>\n",
       "      <td>22.380000</td>\n",
       "      <td>20.850000</td>\n",
       "      <td>10.240000</td>\n",
       "      <td>2.270000</td>\n",
       "      <td>1.950000</td>\n",
       "      <td>4.890000</td>\n",
       "      <td>Latin America and the Caribbean</td>\n",
       "      <td>2380.0</td>\n",
       "      <td>79.017264</td>\n",
       "    </tr>\n",
       "  </tbody>\n",
       "</table>\n",
       "</div>"
      ],
      "text/plain": [
       "           ID  countryCode  year sex  agefrom  ageto  percentage_no_schooling  \\\n",
       "0  ID_00AMK8K          155  1990  MF       15    999                   8.3900   \n",
       "1  ID_00ANS9C          115  2005  MF       25    999                   0.6325   \n",
       "2  ID_00AQU1S           30  2000   M       15    999                  68.5300   \n",
       "3  ID_00AVQ7Q          143  1960  MF       15    999                  12.5300   \n",
       "4  ID_00BAH2C           70  1955  MF       25    999                  20.9800   \n",
       "\n",
       "   percentage_primary_schooling  percentage_primary_schooling_completed  \\\n",
       "0                     26.270000                               15.830000   \n",
       "1                      6.980833                                6.363333   \n",
       "2                     26.320000                               16.020000   \n",
       "3                     69.370000                               49.260000   \n",
       "4                     55.900000                               22.380000   \n",
       "\n",
       "   percentage_secondary_schooling  percentage_secondary_schooling_completed  \\\n",
       "0                       58.570000                                 26.420000   \n",
       "1                       77.683333                                 49.995833   \n",
       "2                        4.620000                                  2.320000   \n",
       "3                        8.130000                                  1.100000   \n",
       "4                       20.850000                                 10.240000   \n",
       "\n",
       "   percentage_tertiary_schooling  percentage_tertiary_schooling_completed  \\\n",
       "0                       6.770000                                 4.400000   \n",
       "1                      14.700833                                13.546667   \n",
       "2                       0.540000                                 0.310000   \n",
       "3                       9.970000                                 5.510000   \n",
       "4                       2.270000                                 1.950000   \n",
       "\n",
       "      yr_sch                      region_code  literate_pop     target  \n",
       "0   8.540000  Latin America and the Caribbean        7435.0  91.609167  \n",
       "1  11.631667          Europe and Central Asia       14350.0  99.362969  \n",
       "2   1.550000               Sub-Saharan Africa        1458.0  31.469890  \n",
       "3   7.490000  Latin America and the Caribbean          45.0  86.538462  \n",
       "4   4.890000  Latin America and the Caribbean        2380.0  79.017264  "
      ]
     },
     "execution_count": 3,
     "metadata": {},
     "output_type": "execute_result"
    }
   ],
   "source": [
    "train.head()"
   ]
  },
  {
   "cell_type": "code",
   "execution_count": 4,
   "id": "8a3dca14-da8d-4568-aaee-3fa771808ed4",
   "metadata": {},
   "outputs": [
    {
     "data": {
      "text/html": [
       "<div>\n",
       "<style scoped>\n",
       "    .dataframe tbody tr th:only-of-type {\n",
       "        vertical-align: middle;\n",
       "    }\n",
       "\n",
       "    .dataframe tbody tr th {\n",
       "        vertical-align: top;\n",
       "    }\n",
       "\n",
       "    .dataframe thead th {\n",
       "        text-align: right;\n",
       "    }\n",
       "</style>\n",
       "<table border=\"1\" class=\"dataframe\">\n",
       "  <thead>\n",
       "    <tr style=\"text-align: right;\">\n",
       "      <th></th>\n",
       "      <th>ID</th>\n",
       "      <th>countryCode</th>\n",
       "      <th>year</th>\n",
       "      <th>sex</th>\n",
       "      <th>agefrom</th>\n",
       "      <th>ageto</th>\n",
       "      <th>percentage_no_schooling</th>\n",
       "      <th>percentage_primary_schooling</th>\n",
       "      <th>percentage_primary_schooling_completed</th>\n",
       "      <th>percentage_secondary_schooling</th>\n",
       "      <th>percentage_secondary_schooling_completed</th>\n",
       "      <th>percentage_tertiary_schooling</th>\n",
       "      <th>percentage_tertiary_schooling_completed</th>\n",
       "      <th>yr_sch</th>\n",
       "      <th>region_code</th>\n",
       "      <th>literate_pop</th>\n",
       "    </tr>\n",
       "  </thead>\n",
       "  <tbody>\n",
       "    <tr>\n",
       "      <th>0</th>\n",
       "      <td>ID_00ILO0W</td>\n",
       "      <td>69</td>\n",
       "      <td>2010</td>\n",
       "      <td>MF</td>\n",
       "      <td>25</td>\n",
       "      <td>999</td>\n",
       "      <td>12.37</td>\n",
       "      <td>37.01</td>\n",
       "      <td>24.83</td>\n",
       "      <td>39.32</td>\n",
       "      <td>24.62</td>\n",
       "      <td>11.30</td>\n",
       "      <td>8.01</td>\n",
       "      <td>7.66</td>\n",
       "      <td>Latin America and the Caribbean</td>\n",
       "      <td>97760.0</td>\n",
       "    </tr>\n",
       "    <tr>\n",
       "      <th>1</th>\n",
       "      <td>ID_00KPO3Y</td>\n",
       "      <td>56</td>\n",
       "      <td>2010</td>\n",
       "      <td>M</td>\n",
       "      <td>15</td>\n",
       "      <td>999</td>\n",
       "      <td>16.77</td>\n",
       "      <td>54.94</td>\n",
       "      <td>24.52</td>\n",
       "      <td>28.27</td>\n",
       "      <td>13.55</td>\n",
       "      <td>0.03</td>\n",
       "      <td>0.02</td>\n",
       "      <td>5.32</td>\n",
       "      <td>Latin America and the Caribbean</td>\n",
       "      <td>3261.0</td>\n",
       "    </tr>\n",
       "    <tr>\n",
       "      <th>2</th>\n",
       "      <td>ID_00MLY2L</td>\n",
       "      <td>99</td>\n",
       "      <td>2010</td>\n",
       "      <td>M</td>\n",
       "      <td>25</td>\n",
       "      <td>999</td>\n",
       "      <td>11.60</td>\n",
       "      <td>30.36</td>\n",
       "      <td>17.55</td>\n",
       "      <td>44.61</td>\n",
       "      <td>25.21</td>\n",
       "      <td>13.43</td>\n",
       "      <td>9.16</td>\n",
       "      <td>8.27</td>\n",
       "      <td>Middle East and North Africa</td>\n",
       "      <td>6332.0</td>\n",
       "    </tr>\n",
       "    <tr>\n",
       "      <th>3</th>\n",
       "      <td>ID_00PVY5K</td>\n",
       "      <td>329</td>\n",
       "      <td>2010</td>\n",
       "      <td>F</td>\n",
       "      <td>15</td>\n",
       "      <td>999</td>\n",
       "      <td>4.78</td>\n",
       "      <td>11.73</td>\n",
       "      <td>9.94</td>\n",
       "      <td>69.66</td>\n",
       "      <td>42.76</td>\n",
       "      <td>13.84</td>\n",
       "      <td>8.39</td>\n",
       "      <td>10.39</td>\n",
       "      <td>Europe and Central Asia</td>\n",
       "      <td>4181.0</td>\n",
       "    </tr>\n",
       "    <tr>\n",
       "      <th>4</th>\n",
       "      <td>ID_00TLQ4J</td>\n",
       "      <td>70</td>\n",
       "      <td>2010</td>\n",
       "      <td>M</td>\n",
       "      <td>15</td>\n",
       "      <td>999</td>\n",
       "      <td>2.18</td>\n",
       "      <td>15.62</td>\n",
       "      <td>7.20</td>\n",
       "      <td>67.16</td>\n",
       "      <td>39.66</td>\n",
       "      <td>15.04</td>\n",
       "      <td>6.88</td>\n",
       "      <td>9.98</td>\n",
       "      <td>Latin America and the Caribbean</td>\n",
       "      <td>6387.0</td>\n",
       "    </tr>\n",
       "  </tbody>\n",
       "</table>\n",
       "</div>"
      ],
      "text/plain": [
       "           ID  countryCode  year sex  agefrom  ageto  percentage_no_schooling  \\\n",
       "0  ID_00ILO0W           69  2010  MF       25    999                    12.37   \n",
       "1  ID_00KPO3Y           56  2010   M       15    999                    16.77   \n",
       "2  ID_00MLY2L           99  2010   M       25    999                    11.60   \n",
       "3  ID_00PVY5K          329  2010   F       15    999                     4.78   \n",
       "4  ID_00TLQ4J           70  2010   M       15    999                     2.18   \n",
       "\n",
       "   percentage_primary_schooling  percentage_primary_schooling_completed  \\\n",
       "0                         37.01                                   24.83   \n",
       "1                         54.94                                   24.52   \n",
       "2                         30.36                                   17.55   \n",
       "3                         11.73                                    9.94   \n",
       "4                         15.62                                    7.20   \n",
       "\n",
       "   percentage_secondary_schooling  percentage_secondary_schooling_completed  \\\n",
       "0                           39.32                                     24.62   \n",
       "1                           28.27                                     13.55   \n",
       "2                           44.61                                     25.21   \n",
       "3                           69.66                                     42.76   \n",
       "4                           67.16                                     39.66   \n",
       "\n",
       "   percentage_tertiary_schooling  percentage_tertiary_schooling_completed  \\\n",
       "0                          11.30                                     8.01   \n",
       "1                           0.03                                     0.02   \n",
       "2                          13.43                                     9.16   \n",
       "3                          13.84                                     8.39   \n",
       "4                          15.04                                     6.88   \n",
       "\n",
       "   yr_sch                      region_code  literate_pop  \n",
       "0    7.66  Latin America and the Caribbean       97760.0  \n",
       "1    5.32  Latin America and the Caribbean        3261.0  \n",
       "2    8.27     Middle East and North Africa        6332.0  \n",
       "3   10.39          Europe and Central Asia        4181.0  \n",
       "4    9.98  Latin America and the Caribbean        6387.0  "
      ]
     },
     "execution_count": 4,
     "metadata": {},
     "output_type": "execute_result"
    }
   ],
   "source": [
    "test.head()"
   ]
  },
  {
   "cell_type": "code",
   "execution_count": 5,
   "id": "9e47b567-54b6-4de9-b88c-d311e3c8a31b",
   "metadata": {},
   "outputs": [
    {
     "name": "stdout",
     "output_type": "stream",
     "text": [
      "<class 'pandas.core.frame.DataFrame'>\n",
      "RangeIndex: 14016 entries, 0 to 14015\n",
      "Data columns (total 17 columns):\n",
      " #   Column                                    Non-Null Count  Dtype  \n",
      "---  ------                                    --------------  -----  \n",
      " 0   ID                                        14016 non-null  object \n",
      " 1   countryCode                               14016 non-null  int64  \n",
      " 2   year                                      14016 non-null  int64  \n",
      " 3   sex                                       14016 non-null  object \n",
      " 4   agefrom                                   14016 non-null  int64  \n",
      " 5   ageto                                     14016 non-null  int64  \n",
      " 6   percentage_no_schooling                   14016 non-null  float64\n",
      " 7   percentage_primary_schooling              14016 non-null  float64\n",
      " 8   percentage_primary_schooling_completed    14016 non-null  float64\n",
      " 9   percentage_secondary_schooling            14016 non-null  float64\n",
      " 10  percentage_secondary_schooling_completed  14016 non-null  float64\n",
      " 11  percentage_tertiary_schooling             14016 non-null  float64\n",
      " 12  percentage_tertiary_schooling_completed   14016 non-null  float64\n",
      " 13  yr_sch                                    14016 non-null  float64\n",
      " 14  region_code                               14016 non-null  object \n",
      " 15  literate_pop                              14016 non-null  float64\n",
      " 16  target                                    14016 non-null  float64\n",
      "dtypes: float64(10), int64(4), object(3)\n",
      "memory usage: 1.8+ MB\n"
     ]
    }
   ],
   "source": [
    "train.info()"
   ]
  },
  {
   "cell_type": "code",
   "execution_count": 6,
   "id": "c7c348d5-f083-4dca-a415-d11603f0a3bb",
   "metadata": {},
   "outputs": [
    {
     "name": "stdout",
     "output_type": "stream",
     "text": [
      "<class 'pandas.core.frame.DataFrame'>\n",
      "RangeIndex: 1168 entries, 0 to 1167\n",
      "Data columns (total 16 columns):\n",
      " #   Column                                    Non-Null Count  Dtype  \n",
      "---  ------                                    --------------  -----  \n",
      " 0   ID                                        1168 non-null   object \n",
      " 1   countryCode                               1168 non-null   int64  \n",
      " 2   year                                      1168 non-null   int64  \n",
      " 3   sex                                       1168 non-null   object \n",
      " 4   agefrom                                   1168 non-null   int64  \n",
      " 5   ageto                                     1168 non-null   int64  \n",
      " 6   percentage_no_schooling                   1168 non-null   float64\n",
      " 7   percentage_primary_schooling              1168 non-null   float64\n",
      " 8   percentage_primary_schooling_completed    1168 non-null   float64\n",
      " 9   percentage_secondary_schooling            1168 non-null   float64\n",
      " 10  percentage_secondary_schooling_completed  1168 non-null   float64\n",
      " 11  percentage_tertiary_schooling             1168 non-null   float64\n",
      " 12  percentage_tertiary_schooling_completed   1168 non-null   float64\n",
      " 13  yr_sch                                    1168 non-null   float64\n",
      " 14  region_code                               1168 non-null   object \n",
      " 15  literate_pop                              1168 non-null   float64\n",
      "dtypes: float64(9), int64(4), object(3)\n",
      "memory usage: 146.1+ KB\n"
     ]
    }
   ],
   "source": [
    "test.info()"
   ]
  },
  {
   "cell_type": "code",
   "execution_count": 7,
   "id": "50dbef2b-9cb5-4a75-9d7d-86dea18e22b2",
   "metadata": {},
   "outputs": [
    {
     "data": {
      "text/html": [
       "<div>\n",
       "<style scoped>\n",
       "    .dataframe tbody tr th:only-of-type {\n",
       "        vertical-align: middle;\n",
       "    }\n",
       "\n",
       "    .dataframe tbody tr th {\n",
       "        vertical-align: top;\n",
       "    }\n",
       "\n",
       "    .dataframe thead th {\n",
       "        text-align: right;\n",
       "    }\n",
       "</style>\n",
       "<table border=\"1\" class=\"dataframe\">\n",
       "  <thead>\n",
       "    <tr style=\"text-align: right;\">\n",
       "      <th></th>\n",
       "      <th>count</th>\n",
       "      <th>mean</th>\n",
       "      <th>std</th>\n",
       "      <th>min</th>\n",
       "      <th>25%</th>\n",
       "      <th>50%</th>\n",
       "      <th>75%</th>\n",
       "      <th>max</th>\n",
       "    </tr>\n",
       "  </thead>\n",
       "  <tbody>\n",
       "    <tr>\n",
       "      <th>countryCode</th>\n",
       "      <td>14016.0</td>\n",
       "      <td>112.212329</td>\n",
       "      <td>90.990390</td>\n",
       "      <td>1.000000</td>\n",
       "      <td>50.000000</td>\n",
       "      <td>91.500000</td>\n",
       "      <td>131.000000</td>\n",
       "      <td>3.580000e+02</td>\n",
       "    </tr>\n",
       "    <tr>\n",
       "      <th>year</th>\n",
       "      <td>14016.0</td>\n",
       "      <td>1977.500000</td>\n",
       "      <td>17.260878</td>\n",
       "      <td>1950.000000</td>\n",
       "      <td>1963.750000</td>\n",
       "      <td>1977.500000</td>\n",
       "      <td>1991.250000</td>\n",
       "      <td>2.005000e+03</td>\n",
       "    </tr>\n",
       "    <tr>\n",
       "      <th>agefrom</th>\n",
       "      <td>14016.0</td>\n",
       "      <td>20.000000</td>\n",
       "      <td>5.000178</td>\n",
       "      <td>15.000000</td>\n",
       "      <td>15.000000</td>\n",
       "      <td>20.000000</td>\n",
       "      <td>25.000000</td>\n",
       "      <td>2.500000e+01</td>\n",
       "    </tr>\n",
       "    <tr>\n",
       "      <th>ageto</th>\n",
       "      <td>14016.0</td>\n",
       "      <td>999.000000</td>\n",
       "      <td>0.000000</td>\n",
       "      <td>999.000000</td>\n",
       "      <td>999.000000</td>\n",
       "      <td>999.000000</td>\n",
       "      <td>999.000000</td>\n",
       "      <td>9.990000e+02</td>\n",
       "    </tr>\n",
       "    <tr>\n",
       "      <th>percentage_no_schooling</th>\n",
       "      <td>14016.0</td>\n",
       "      <td>35.058990</td>\n",
       "      <td>30.836316</td>\n",
       "      <td>0.003333</td>\n",
       "      <td>6.200000</td>\n",
       "      <td>26.387917</td>\n",
       "      <td>60.120833</td>\n",
       "      <td>1.000000e+02</td>\n",
       "    </tr>\n",
       "    <tr>\n",
       "      <th>percentage_primary_schooling</th>\n",
       "      <td>14016.0</td>\n",
       "      <td>35.081346</td>\n",
       "      <td>20.827921</td>\n",
       "      <td>0.000000</td>\n",
       "      <td>17.710000</td>\n",
       "      <td>34.035000</td>\n",
       "      <td>49.870000</td>\n",
       "      <td>9.438000e+01</td>\n",
       "    </tr>\n",
       "    <tr>\n",
       "      <th>percentage_primary_schooling_completed</th>\n",
       "      <td>14016.0</td>\n",
       "      <td>18.336662</td>\n",
       "      <td>14.543279</td>\n",
       "      <td>0.000000</td>\n",
       "      <td>6.830000</td>\n",
       "      <td>15.235000</td>\n",
       "      <td>26.315000</td>\n",
       "      <td>8.526667e+01</td>\n",
       "    </tr>\n",
       "    <tr>\n",
       "      <th>percentage_secondary_schooling</th>\n",
       "      <td>14016.0</td>\n",
       "      <td>24.148922</td>\n",
       "      <td>20.248127</td>\n",
       "      <td>0.000000</td>\n",
       "      <td>6.820000</td>\n",
       "      <td>19.150000</td>\n",
       "      <td>37.650833</td>\n",
       "      <td>9.394333e+01</td>\n",
       "    </tr>\n",
       "    <tr>\n",
       "      <th>percentage_secondary_schooling_completed</th>\n",
       "      <td>14016.0</td>\n",
       "      <td>12.448905</td>\n",
       "      <td>13.100393</td>\n",
       "      <td>0.000000</td>\n",
       "      <td>2.470000</td>\n",
       "      <td>7.640000</td>\n",
       "      <td>18.760000</td>\n",
       "      <td>7.726000e+01</td>\n",
       "    </tr>\n",
       "    <tr>\n",
       "      <th>percentage_tertiary_schooling</th>\n",
       "      <td>14016.0</td>\n",
       "      <td>5.708469</td>\n",
       "      <td>7.103030</td>\n",
       "      <td>0.000000</td>\n",
       "      <td>0.850000</td>\n",
       "      <td>2.980000</td>\n",
       "      <td>8.150000</td>\n",
       "      <td>5.729000e+01</td>\n",
       "    </tr>\n",
       "    <tr>\n",
       "      <th>percentage_tertiary_schooling_completed</th>\n",
       "      <td>14016.0</td>\n",
       "      <td>3.394752</td>\n",
       "      <td>4.263788</td>\n",
       "      <td>0.000000</td>\n",
       "      <td>0.450000</td>\n",
       "      <td>1.730000</td>\n",
       "      <td>4.750000</td>\n",
       "      <td>3.101000e+01</td>\n",
       "    </tr>\n",
       "    <tr>\n",
       "      <th>yr_sch</th>\n",
       "      <td>14016.0</td>\n",
       "      <td>5.035554</td>\n",
       "      <td>3.182527</td>\n",
       "      <td>0.000000</td>\n",
       "      <td>2.290000</td>\n",
       "      <td>4.740000</td>\n",
       "      <td>7.540000</td>\n",
       "      <td>1.328000e+01</td>\n",
       "    </tr>\n",
       "    <tr>\n",
       "      <th>literate_pop</th>\n",
       "      <td>14016.0</td>\n",
       "      <td>10282.932434</td>\n",
       "      <td>45039.965145</td>\n",
       "      <td>0.000000</td>\n",
       "      <td>305.000000</td>\n",
       "      <td>1391.000000</td>\n",
       "      <td>5393.750000</td>\n",
       "      <td>1.377328e+06</td>\n",
       "    </tr>\n",
       "    <tr>\n",
       "      <th>target</th>\n",
       "      <td>14016.0</td>\n",
       "      <td>64.819575</td>\n",
       "      <td>30.862859</td>\n",
       "      <td>0.000000</td>\n",
       "      <td>39.845469</td>\n",
       "      <td>73.493041</td>\n",
       "      <td>93.704484</td>\n",
       "      <td>1.000375e+02</td>\n",
       "    </tr>\n",
       "  </tbody>\n",
       "</table>\n",
       "</div>"
      ],
      "text/plain": [
       "                                            count          mean           std  \\\n",
       "countryCode                               14016.0    112.212329     90.990390   \n",
       "year                                      14016.0   1977.500000     17.260878   \n",
       "agefrom                                   14016.0     20.000000      5.000178   \n",
       "ageto                                     14016.0    999.000000      0.000000   \n",
       "percentage_no_schooling                   14016.0     35.058990     30.836316   \n",
       "percentage_primary_schooling              14016.0     35.081346     20.827921   \n",
       "percentage_primary_schooling_completed    14016.0     18.336662     14.543279   \n",
       "percentage_secondary_schooling            14016.0     24.148922     20.248127   \n",
       "percentage_secondary_schooling_completed  14016.0     12.448905     13.100393   \n",
       "percentage_tertiary_schooling             14016.0      5.708469      7.103030   \n",
       "percentage_tertiary_schooling_completed   14016.0      3.394752      4.263788   \n",
       "yr_sch                                    14016.0      5.035554      3.182527   \n",
       "literate_pop                              14016.0  10282.932434  45039.965145   \n",
       "target                                    14016.0     64.819575     30.862859   \n",
       "\n",
       "                                                  min          25%  \\\n",
       "countryCode                                  1.000000    50.000000   \n",
       "year                                      1950.000000  1963.750000   \n",
       "agefrom                                     15.000000    15.000000   \n",
       "ageto                                      999.000000   999.000000   \n",
       "percentage_no_schooling                      0.003333     6.200000   \n",
       "percentage_primary_schooling                 0.000000    17.710000   \n",
       "percentage_primary_schooling_completed       0.000000     6.830000   \n",
       "percentage_secondary_schooling               0.000000     6.820000   \n",
       "percentage_secondary_schooling_completed     0.000000     2.470000   \n",
       "percentage_tertiary_schooling                0.000000     0.850000   \n",
       "percentage_tertiary_schooling_completed      0.000000     0.450000   \n",
       "yr_sch                                       0.000000     2.290000   \n",
       "literate_pop                                 0.000000   305.000000   \n",
       "target                                       0.000000    39.845469   \n",
       "\n",
       "                                                  50%          75%  \\\n",
       "countryCode                                 91.500000   131.000000   \n",
       "year                                      1977.500000  1991.250000   \n",
       "agefrom                                     20.000000    25.000000   \n",
       "ageto                                      999.000000   999.000000   \n",
       "percentage_no_schooling                     26.387917    60.120833   \n",
       "percentage_primary_schooling                34.035000    49.870000   \n",
       "percentage_primary_schooling_completed      15.235000    26.315000   \n",
       "percentage_secondary_schooling              19.150000    37.650833   \n",
       "percentage_secondary_schooling_completed     7.640000    18.760000   \n",
       "percentage_tertiary_schooling                2.980000     8.150000   \n",
       "percentage_tertiary_schooling_completed      1.730000     4.750000   \n",
       "yr_sch                                       4.740000     7.540000   \n",
       "literate_pop                              1391.000000  5393.750000   \n",
       "target                                      73.493041    93.704484   \n",
       "\n",
       "                                                   max  \n",
       "countryCode                               3.580000e+02  \n",
       "year                                      2.005000e+03  \n",
       "agefrom                                   2.500000e+01  \n",
       "ageto                                     9.990000e+02  \n",
       "percentage_no_schooling                   1.000000e+02  \n",
       "percentage_primary_schooling              9.438000e+01  \n",
       "percentage_primary_schooling_completed    8.526667e+01  \n",
       "percentage_secondary_schooling            9.394333e+01  \n",
       "percentage_secondary_schooling_completed  7.726000e+01  \n",
       "percentage_tertiary_schooling             5.729000e+01  \n",
       "percentage_tertiary_schooling_completed   3.101000e+01  \n",
       "yr_sch                                    1.328000e+01  \n",
       "literate_pop                              1.377328e+06  \n",
       "target                                    1.000375e+02  "
      ]
     },
     "execution_count": 7,
     "metadata": {},
     "output_type": "execute_result"
    }
   ],
   "source": [
    "train.describe().T"
   ]
  },
  {
   "cell_type": "code",
   "execution_count": 8,
   "id": "4c531213-a9dc-4cbf-a007-997683cd87b1",
   "metadata": {},
   "outputs": [
    {
     "data": {
      "text/plain": [
       "countryCode                                 0.341401\n",
       "year                                        0.349093\n",
       "agefrom                                    -0.107713\n",
       "ageto                                            NaN\n",
       "percentage_no_schooling                    -0.999879\n",
       "percentage_primary_schooling                0.579174\n",
       "percentage_primary_schooling_completed      0.620742\n",
       "percentage_secondary_schooling              0.732198\n",
       "percentage_secondary_schooling_completed    0.638689\n",
       "percentage_tertiary_schooling               0.555142\n",
       "percentage_tertiary_schooling_completed     0.538131\n",
       "yr_sch                                      0.896004\n",
       "literate_pop                                0.114761\n",
       "target                                      1.000000\n",
       "Name: target, dtype: float64"
      ]
     },
     "execution_count": 8,
     "metadata": {},
     "output_type": "execute_result"
    }
   ],
   "source": [
    "train.corr()['target']"
   ]
  },
  {
   "cell_type": "code",
   "execution_count": 9,
   "id": "8647cace-c084-4195-8bc3-06c644d84f86",
   "metadata": {},
   "outputs": [],
   "source": [
    "# train.profile_report()"
   ]
  },
  {
   "cell_type": "code",
   "execution_count": 10,
   "id": "88617a57-0710-4a15-a73c-ce166d465799",
   "metadata": {},
   "outputs": [
    {
     "data": {
      "text/plain": [
       "ID                                          0\n",
       "countryCode                                 0\n",
       "year                                        0\n",
       "sex                                         0\n",
       "agefrom                                     0\n",
       "ageto                                       0\n",
       "percentage_no_schooling                     0\n",
       "percentage_primary_schooling                0\n",
       "percentage_primary_schooling_completed      0\n",
       "percentage_secondary_schooling              0\n",
       "percentage_secondary_schooling_completed    0\n",
       "percentage_tertiary_schooling               0\n",
       "percentage_tertiary_schooling_completed     0\n",
       "yr_sch                                      0\n",
       "region_code                                 0\n",
       "literate_pop                                0\n",
       "target                                      0\n",
       "dtype: int64"
      ]
     },
     "execution_count": 10,
     "metadata": {},
     "output_type": "execute_result"
    }
   ],
   "source": [
    "# Missing values\n",
    "train.isnull().sum()"
   ]
  },
  {
   "cell_type": "code",
   "execution_count": 11,
   "id": "ec11bc1b-b80c-4fae-a47d-7bd069a2c700",
   "metadata": {},
   "outputs": [
    {
     "data": {
      "text/plain": [
       "ID                                          0\n",
       "countryCode                                 0\n",
       "year                                        0\n",
       "sex                                         0\n",
       "agefrom                                     0\n",
       "ageto                                       0\n",
       "percentage_no_schooling                     0\n",
       "percentage_primary_schooling                0\n",
       "percentage_primary_schooling_completed      0\n",
       "percentage_secondary_schooling              0\n",
       "percentage_secondary_schooling_completed    0\n",
       "percentage_tertiary_schooling               0\n",
       "percentage_tertiary_schooling_completed     0\n",
       "yr_sch                                      0\n",
       "region_code                                 0\n",
       "literate_pop                                0\n",
       "dtype: int64"
      ]
     },
     "execution_count": 11,
     "metadata": {},
     "output_type": "execute_result"
    }
   ],
   "source": [
    "test.isnull().sum()"
   ]
  },
  {
   "cell_type": "code",
   "execution_count": 12,
   "id": "01c810e4-2d92-4320-b01d-c583a2dfbf8b",
   "metadata": {},
   "outputs": [
    {
     "data": {
      "text/plain": [
       "<AxesSubplot:>"
      ]
     },
     "execution_count": 12,
     "metadata": {},
     "output_type": "execute_result"
    },
    {
     "data": {
      "image/png": "[encoded data removed]",
      "text/plain": [
       "<Figure size 864x576 with 2 Axes>"
      ]
     },
     "metadata": {
      "needs_background": "light"
     },
     "output_type": "display_data"
    }
   ],
   "source": [
    "plt.figure(figsize=(12, 8))\n",
    "sns.heatmap(train.corr(), annot=True, cmap='viridis')"
   ]
  },
  {
   "cell_type": "markdown",
   "id": "5dd17f89-bff4-4e17-a63e-e8f230751ecc",
   "metadata": {},
   "source": [
    "## Dealing with categorical variables"
   ]
  },
  {
   "cell_type": "code",
   "execution_count": 13,
   "id": "00b845a0-3a9c-4383-aabc-f406051ab8c9",
   "metadata": {},
   "outputs": [
    {
     "data": {
      "text/plain": [
       "Index(['ID', 'countryCode', 'year', 'sex', 'agefrom', 'ageto',\n",
       "       'percentage_no_schooling', 'percentage_primary_schooling',\n",
       "       'percentage_primary_schooling_completed',\n",
       "       'percentage_secondary_schooling',\n",
       "       'percentage_secondary_schooling_completed',\n",
       "       'percentage_tertiary_schooling',\n",
       "       'percentage_tertiary_schooling_completed', 'yr_sch', 'region_code',\n",
       "       'literate_pop', 'target'],\n",
       "      dtype='object')"
      ]
     },
     "execution_count": 13,
     "metadata": {},
     "output_type": "execute_result"
    }
   ],
   "source": [
    "train.columns"
   ]
  },
  {
   "cell_type": "code",
   "execution_count": 14,
   "id": "50d8dc3f-0c0c-4aba-ab1d-d54edd654d76",
   "metadata": {},
   "outputs": [
    {
     "data": {
      "text/html": [
       "<div>\n",
       "<style scoped>\n",
       "    .dataframe tbody tr th:only-of-type {\n",
       "        vertical-align: middle;\n",
       "    }\n",
       "\n",
       "    .dataframe tbody tr th {\n",
       "        vertical-align: top;\n",
       "    }\n",
       "\n",
       "    .dataframe thead th {\n",
       "        text-align: right;\n",
       "    }\n",
       "</style>\n",
       "<table border=\"1\" class=\"dataframe\">\n",
       "  <thead>\n",
       "    <tr style=\"text-align: right;\">\n",
       "      <th></th>\n",
       "      <th>ID</th>\n",
       "      <th>countryCode</th>\n",
       "      <th>year</th>\n",
       "      <th>sex</th>\n",
       "      <th>agefrom</th>\n",
       "      <th>ageto</th>\n",
       "      <th>percentage_no_schooling</th>\n",
       "      <th>percentage_primary_schooling</th>\n",
       "      <th>percentage_primary_schooling_completed</th>\n",
       "      <th>percentage_secondary_schooling</th>\n",
       "      <th>percentage_secondary_schooling_completed</th>\n",
       "      <th>percentage_tertiary_schooling</th>\n",
       "      <th>percentage_tertiary_schooling_completed</th>\n",
       "      <th>yr_sch</th>\n",
       "      <th>region_code</th>\n",
       "      <th>literate_pop</th>\n",
       "      <th>target</th>\n",
       "    </tr>\n",
       "  </thead>\n",
       "  <tbody>\n",
       "    <tr>\n",
       "      <th>0</th>\n",
       "      <td>ID_00AMK8K</td>\n",
       "      <td>155</td>\n",
       "      <td>1990</td>\n",
       "      <td>MF</td>\n",
       "      <td>15</td>\n",
       "      <td>999</td>\n",
       "      <td>8.3900</td>\n",
       "      <td>26.270000</td>\n",
       "      <td>15.830000</td>\n",
       "      <td>58.570000</td>\n",
       "      <td>26.420000</td>\n",
       "      <td>6.770000</td>\n",
       "      <td>4.400000</td>\n",
       "      <td>8.540000</td>\n",
       "      <td>Latin America and the Caribbean</td>\n",
       "      <td>7435.0</td>\n",
       "      <td>91.609167</td>\n",
       "    </tr>\n",
       "    <tr>\n",
       "      <th>1</th>\n",
       "      <td>ID_00ANS9C</td>\n",
       "      <td>115</td>\n",
       "      <td>2005</td>\n",
       "      <td>MF</td>\n",
       "      <td>25</td>\n",
       "      <td>999</td>\n",
       "      <td>0.6325</td>\n",
       "      <td>6.980833</td>\n",
       "      <td>6.363333</td>\n",
       "      <td>77.683333</td>\n",
       "      <td>49.995833</td>\n",
       "      <td>14.700833</td>\n",
       "      <td>13.546667</td>\n",
       "      <td>11.631667</td>\n",
       "      <td>Europe and Central Asia</td>\n",
       "      <td>14350.0</td>\n",
       "      <td>99.362969</td>\n",
       "    </tr>\n",
       "  </tbody>\n",
       "</table>\n",
       "</div>"
      ],
      "text/plain": [
       "           ID  countryCode  year sex  agefrom  ageto  percentage_no_schooling  \\\n",
       "0  ID_00AMK8K          155  1990  MF       15    999                   8.3900   \n",
       "1  ID_00ANS9C          115  2005  MF       25    999                   0.6325   \n",
       "\n",
       "   percentage_primary_schooling  percentage_primary_schooling_completed  \\\n",
       "0                     26.270000                               15.830000   \n",
       "1                      6.980833                                6.363333   \n",
       "\n",
       "   percentage_secondary_schooling  percentage_secondary_schooling_completed  \\\n",
       "0                       58.570000                                 26.420000   \n",
       "1                       77.683333                                 49.995833   \n",
       "\n",
       "   percentage_tertiary_schooling  percentage_tertiary_schooling_completed  \\\n",
       "0                       6.770000                                 4.400000   \n",
       "1                      14.700833                                13.546667   \n",
       "\n",
       "      yr_sch                      region_code  literate_pop     target  \n",
       "0   8.540000  Latin America and the Caribbean        7435.0  91.609167  \n",
       "1  11.631667          Europe and Central Asia       14350.0  99.362969  "
      ]
     },
     "execution_count": 14,
     "metadata": {},
     "output_type": "execute_result"
    }
   ],
   "source": [
    "train.head(2)"
   ]
  },
  {
   "cell_type": "code",
   "execution_count": 15,
   "id": "120387c5-2c1a-4c95-9e49-0e42bd13fb94",
   "metadata": {},
   "outputs": [
    {
     "data": {
      "text/plain": [
       "array(['MF', 'M', 'F'], dtype=object)"
      ]
     },
     "execution_count": 15,
     "metadata": {},
     "output_type": "execute_result"
    }
   ],
   "source": [
    "train.sex.unique()"
   ]
  },
  {
   "cell_type": "code",
   "execution_count": 16,
   "id": "ee1907e1-bd47-4b2c-af30-85bc91c20a0f",
   "metadata": {},
   "outputs": [
    {
     "data": {
      "text/plain": [
       "Index(['ID', 'countryCode', 'year', 'sex', 'agefrom', 'ageto',\n",
       "       'percentage_no_schooling', 'percentage_primary_schooling',\n",
       "       'percentage_primary_schooling_completed',\n",
       "       'percentage_secondary_schooling',\n",
       "       'percentage_secondary_schooling_completed',\n",
       "       'percentage_tertiary_schooling',\n",
       "       'percentage_tertiary_schooling_completed', 'yr_sch', 'region_code',\n",
       "       'literate_pop'],\n",
       "      dtype='object')"
      ]
     },
     "execution_count": 16,
     "metadata": {},
     "output_type": "execute_result"
    }
   ],
   "source": [
    "test.columns"
   ]
  },
  {
   "cell_type": "code",
   "execution_count": 17,
   "id": "213944be-8a88-4b5d-9f46-48c2497cdf45",
   "metadata": {},
   "outputs": [],
   "source": [
    "train1 = pd.get_dummies(data=train, columns=['sex', 'region_code']).drop(['sex_F', 'region_code_South Asia'], axis='columns')\n",
    "test1 = pd.get_dummies(data=test, columns=['sex', 'region_code']).drop(['sex_F','region_code_South Asia'], axis='columns')"
   ]
  },
  {
   "cell_type": "code",
   "execution_count": 18,
   "id": "776756e2-30fb-44e8-b2c4-8d57183db592",
   "metadata": {},
   "outputs": [
    {
     "data": {
      "text/plain": [
       "MF    7008\n",
       "M     3504\n",
       "F     3504\n",
       "Name: sex, dtype: int64"
      ]
     },
     "execution_count": 18,
     "metadata": {},
     "output_type": "execute_result"
    }
   ],
   "source": [
    "train.sex.value_counts()"
   ]
  },
  {
   "cell_type": "code",
   "execution_count": 19,
   "id": "d1d1c165-d936-413c-a36f-0344c4af1e92",
   "metadata": {},
   "outputs": [
    {
     "data": {
      "text/plain": [
       "MF    584\n",
       "M     292\n",
       "F     292\n",
       "Name: sex, dtype: int64"
      ]
     },
     "execution_count": 19,
     "metadata": {},
     "output_type": "execute_result"
    }
   ],
   "source": [
    "test.sex.value_counts()"
   ]
  },
  {
   "cell_type": "code",
   "execution_count": 20,
   "id": "6289d8c8-3fb6-429e-892e-7d8e20135876",
   "metadata": {},
   "outputs": [
    {
     "data": {
      "text/plain": [
       "Sub-Saharan Africa                 3168\n",
       "Latin America and the Caribbean    2400\n",
       "Advanced Economies                 2304\n",
       "Europe and Central Asia            1920\n",
       "East Asia and the Pacific          1824\n",
       "Middle East and North Africa       1728\n",
       "South Asia                          672\n",
       "Name: region_code, dtype: int64"
      ]
     },
     "execution_count": 20,
     "metadata": {},
     "output_type": "execute_result"
    }
   ],
   "source": [
    "train.region_code.value_counts()"
   ]
  },
  {
   "cell_type": "code",
   "execution_count": 21,
   "id": "a27e0888-1382-4b42-837a-19d9d9d9011c",
   "metadata": {},
   "outputs": [
    {
     "data": {
      "text/plain": [
       "Sub-Saharan Africa                 264\n",
       "Latin America and the Caribbean    200\n",
       "Advanced Economies                 192\n",
       "Europe and Central Asia            160\n",
       "East Asia and the Pacific          152\n",
       "Middle East and North Africa       144\n",
       "South Asia                          56\n",
       "Name: region_code, dtype: int64"
      ]
     },
     "execution_count": 21,
     "metadata": {},
     "output_type": "execute_result"
    }
   ],
   "source": [
    "test.region_code.value_counts()"
   ]
  },
  {
   "cell_type": "code",
   "execution_count": 22,
   "id": "d8665d47-6b5d-480e-a615-c126febe5af7",
   "metadata": {},
   "outputs": [
    {
     "data": {
      "text/html": [
       "<div>\n",
       "<style scoped>\n",
       "    .dataframe tbody tr th:only-of-type {\n",
       "        vertical-align: middle;\n",
       "    }\n",
       "\n",
       "    .dataframe tbody tr th {\n",
       "        vertical-align: top;\n",
       "    }\n",
       "\n",
       "    .dataframe thead th {\n",
       "        text-align: right;\n",
       "    }\n",
       "</style>\n",
       "<table border=\"1\" class=\"dataframe\">\n",
       "  <thead>\n",
       "    <tr style=\"text-align: right;\">\n",
       "      <th></th>\n",
       "      <th>ID</th>\n",
       "      <th>countryCode</th>\n",
       "      <th>year</th>\n",
       "      <th>agefrom</th>\n",
       "      <th>ageto</th>\n",
       "      <th>percentage_no_schooling</th>\n",
       "      <th>percentage_primary_schooling</th>\n",
       "      <th>percentage_primary_schooling_completed</th>\n",
       "      <th>percentage_secondary_schooling</th>\n",
       "      <th>percentage_secondary_schooling_completed</th>\n",
       "      <th>...</th>\n",
       "      <th>literate_pop</th>\n",
       "      <th>target</th>\n",
       "      <th>sex_M</th>\n",
       "      <th>sex_MF</th>\n",
       "      <th>region_code_Advanced Economies</th>\n",
       "      <th>region_code_East Asia and the Pacific</th>\n",
       "      <th>region_code_Europe and Central Asia</th>\n",
       "      <th>region_code_Latin America and the Caribbean</th>\n",
       "      <th>region_code_Middle East and North Africa</th>\n",
       "      <th>region_code_Sub-Saharan Africa</th>\n",
       "    </tr>\n",
       "  </thead>\n",
       "  <tbody>\n",
       "    <tr>\n",
       "      <th>0</th>\n",
       "      <td>ID_00AMK8K</td>\n",
       "      <td>155</td>\n",
       "      <td>1990</td>\n",
       "      <td>15</td>\n",
       "      <td>999</td>\n",
       "      <td>8.3900</td>\n",
       "      <td>26.270000</td>\n",
       "      <td>15.830000</td>\n",
       "      <td>58.570000</td>\n",
       "      <td>26.420000</td>\n",
       "      <td>...</td>\n",
       "      <td>7435.0</td>\n",
       "      <td>91.609167</td>\n",
       "      <td>0</td>\n",
       "      <td>1</td>\n",
       "      <td>0</td>\n",
       "      <td>0</td>\n",
       "      <td>0</td>\n",
       "      <td>1</td>\n",
       "      <td>0</td>\n",
       "      <td>0</td>\n",
       "    </tr>\n",
       "    <tr>\n",
       "      <th>1</th>\n",
       "      <td>ID_00ANS9C</td>\n",
       "      <td>115</td>\n",
       "      <td>2005</td>\n",
       "      <td>25</td>\n",
       "      <td>999</td>\n",
       "      <td>0.6325</td>\n",
       "      <td>6.980833</td>\n",
       "      <td>6.363333</td>\n",
       "      <td>77.683333</td>\n",
       "      <td>49.995833</td>\n",
       "      <td>...</td>\n",
       "      <td>14350.0</td>\n",
       "      <td>99.362969</td>\n",
       "      <td>0</td>\n",
       "      <td>1</td>\n",
       "      <td>0</td>\n",
       "      <td>0</td>\n",
       "      <td>1</td>\n",
       "      <td>0</td>\n",
       "      <td>0</td>\n",
       "      <td>0</td>\n",
       "    </tr>\n",
       "  </tbody>\n",
       "</table>\n",
       "<p>2 rows × 23 columns</p>\n",
       "</div>"
      ],
      "text/plain": [
       "           ID  countryCode  year  agefrom  ageto  percentage_no_schooling  \\\n",
       "0  ID_00AMK8K          155  1990       15    999                   8.3900   \n",
       "1  ID_00ANS9C          115  2005       25    999                   0.6325   \n",
       "\n",
       "   percentage_primary_schooling  percentage_primary_schooling_completed  \\\n",
       "0                     26.270000                               15.830000   \n",
       "1                      6.980833                                6.363333   \n",
       "\n",
       "   percentage_secondary_schooling  percentage_secondary_schooling_completed  \\\n",
       "0                       58.570000                                 26.420000   \n",
       "1                       77.683333                                 49.995833   \n",
       "\n",
       "   ...  literate_pop     target  sex_M  sex_MF  \\\n",
       "0  ...        7435.0  91.609167      0       1   \n",
       "1  ...       14350.0  99.362969      0       1   \n",
       "\n",
       "   region_code_Advanced Economies  region_code_East Asia and the Pacific  \\\n",
       "0                               0                                      0   \n",
       "1                               0                                      0   \n",
       "\n",
       "   region_code_Europe and Central Asia  \\\n",
       "0                                    0   \n",
       "1                                    1   \n",
       "\n",
       "   region_code_Latin America and the Caribbean  \\\n",
       "0                                            1   \n",
       "1                                            0   \n",
       "\n",
       "   region_code_Middle East and North Africa  region_code_Sub-Saharan Africa  \n",
       "0                                         0                               0  \n",
       "1                                         0                               0  \n",
       "\n",
       "[2 rows x 23 columns]"
      ]
     },
     "execution_count": 22,
     "metadata": {},
     "output_type": "execute_result"
    }
   ],
   "source": [
    "train1.head(2)"
   ]
  },
  {
   "cell_type": "code",
   "execution_count": 23,
   "id": "28f35400-22d4-459d-b8aa-93fa09d16f8d",
   "metadata": {},
   "outputs": [
    {
     "data": {
      "text/html": [
       "<div>\n",
       "<style scoped>\n",
       "    .dataframe tbody tr th:only-of-type {\n",
       "        vertical-align: middle;\n",
       "    }\n",
       "\n",
       "    .dataframe tbody tr th {\n",
       "        vertical-align: top;\n",
       "    }\n",
       "\n",
       "    .dataframe thead th {\n",
       "        text-align: right;\n",
       "    }\n",
       "</style>\n",
       "<table border=\"1\" class=\"dataframe\">\n",
       "  <thead>\n",
       "    <tr style=\"text-align: right;\">\n",
       "      <th></th>\n",
       "      <th>ID</th>\n",
       "      <th>countryCode</th>\n",
       "      <th>year</th>\n",
       "      <th>agefrom</th>\n",
       "      <th>ageto</th>\n",
       "      <th>percentage_no_schooling</th>\n",
       "      <th>percentage_primary_schooling</th>\n",
       "      <th>percentage_primary_schooling_completed</th>\n",
       "      <th>percentage_secondary_schooling</th>\n",
       "      <th>percentage_secondary_schooling_completed</th>\n",
       "      <th>...</th>\n",
       "      <th>yr_sch</th>\n",
       "      <th>literate_pop</th>\n",
       "      <th>sex_M</th>\n",
       "      <th>sex_MF</th>\n",
       "      <th>region_code_Advanced Economies</th>\n",
       "      <th>region_code_East Asia and the Pacific</th>\n",
       "      <th>region_code_Europe and Central Asia</th>\n",
       "      <th>region_code_Latin America and the Caribbean</th>\n",
       "      <th>region_code_Middle East and North Africa</th>\n",
       "      <th>region_code_Sub-Saharan Africa</th>\n",
       "    </tr>\n",
       "  </thead>\n",
       "  <tbody>\n",
       "    <tr>\n",
       "      <th>0</th>\n",
       "      <td>ID_00ILO0W</td>\n",
       "      <td>69</td>\n",
       "      <td>2010</td>\n",
       "      <td>25</td>\n",
       "      <td>999</td>\n",
       "      <td>12.37</td>\n",
       "      <td>37.01</td>\n",
       "      <td>24.83</td>\n",
       "      <td>39.32</td>\n",
       "      <td>24.62</td>\n",
       "      <td>...</td>\n",
       "      <td>7.66</td>\n",
       "      <td>97760.0</td>\n",
       "      <td>0</td>\n",
       "      <td>1</td>\n",
       "      <td>0</td>\n",
       "      <td>0</td>\n",
       "      <td>0</td>\n",
       "      <td>1</td>\n",
       "      <td>0</td>\n",
       "      <td>0</td>\n",
       "    </tr>\n",
       "    <tr>\n",
       "      <th>1</th>\n",
       "      <td>ID_00KPO3Y</td>\n",
       "      <td>56</td>\n",
       "      <td>2010</td>\n",
       "      <td>15</td>\n",
       "      <td>999</td>\n",
       "      <td>16.77</td>\n",
       "      <td>54.94</td>\n",
       "      <td>24.52</td>\n",
       "      <td>28.27</td>\n",
       "      <td>13.55</td>\n",
       "      <td>...</td>\n",
       "      <td>5.32</td>\n",
       "      <td>3261.0</td>\n",
       "      <td>1</td>\n",
       "      <td>0</td>\n",
       "      <td>0</td>\n",
       "      <td>0</td>\n",
       "      <td>0</td>\n",
       "      <td>1</td>\n",
       "      <td>0</td>\n",
       "      <td>0</td>\n",
       "    </tr>\n",
       "  </tbody>\n",
       "</table>\n",
       "<p>2 rows × 22 columns</p>\n",
       "</div>"
      ],
      "text/plain": [
       "           ID  countryCode  year  agefrom  ageto  percentage_no_schooling  \\\n",
       "0  ID_00ILO0W           69  2010       25    999                    12.37   \n",
       "1  ID_00KPO3Y           56  2010       15    999                    16.77   \n",
       "\n",
       "   percentage_primary_schooling  percentage_primary_schooling_completed  \\\n",
       "0                         37.01                                   24.83   \n",
       "1                         54.94                                   24.52   \n",
       "\n",
       "   percentage_secondary_schooling  percentage_secondary_schooling_completed  \\\n",
       "0                           39.32                                     24.62   \n",
       "1                           28.27                                     13.55   \n",
       "\n",
       "   ...  yr_sch  literate_pop  sex_M  sex_MF  region_code_Advanced Economies  \\\n",
       "0  ...    7.66       97760.0      0       1                               0   \n",
       "1  ...    5.32        3261.0      1       0                               0   \n",
       "\n",
       "   region_code_East Asia and the Pacific  region_code_Europe and Central Asia  \\\n",
       "0                                      0                                    0   \n",
       "1                                      0                                    0   \n",
       "\n",
       "   region_code_Latin America and the Caribbean  \\\n",
       "0                                            1   \n",
       "1                                            1   \n",
       "\n",
       "   region_code_Middle East and North Africa  region_code_Sub-Saharan Africa  \n",
       "0                                         0                               0  \n",
       "1                                         0                               0  \n",
       "\n",
       "[2 rows x 22 columns]"
      ]
     },
     "execution_count": 23,
     "metadata": {},
     "output_type": "execute_result"
    }
   ],
   "source": [
    "test1.head(2)"
   ]
  },
  {
   "cell_type": "code",
   "execution_count": 24,
   "id": "7daf846e-12aa-4771-8165-a8a46bece707",
   "metadata": {},
   "outputs": [
    {
     "data": {
      "text/plain": [
       "array([999])"
      ]
     },
     "execution_count": 24,
     "metadata": {},
     "output_type": "execute_result"
    }
   ],
   "source": [
    "train1['ageto'].unique()"
   ]
  },
  {
   "cell_type": "code",
   "execution_count": 25,
   "id": "d31179f9-a594-4e10-b987-e520ad0d05a1",
   "metadata": {},
   "outputs": [
    {
     "data": {
      "text/plain": [
       "array([999])"
      ]
     },
     "execution_count": 25,
     "metadata": {},
     "output_type": "execute_result"
    }
   ],
   "source": [
    "test.ageto.unique()"
   ]
  },
  {
   "cell_type": "code",
   "execution_count": 26,
   "id": "7c8d48dd-defc-4280-935e-7e6932899a6d",
   "metadata": {},
   "outputs": [],
   "source": [
    "unique_id = test1['ID']\n",
    "train1.drop(['ageto', 'ID'], axis='columns', inplace=True)\n",
    "test1.drop(['ageto', 'ID'], axis='columns', inplace=True)"
   ]
  },
  {
   "cell_type": "code",
   "execution_count": 27,
   "id": "17f0597c-954d-4ca9-ad86-258a0aada05f",
   "metadata": {},
   "outputs": [
    {
     "name": "stdout",
     "output_type": "stream",
     "text": [
      "Index(['countryCode', 'year', 'agefrom', 'percentage_no_schooling',\n",
      "       'percentage_primary_schooling',\n",
      "       'percentage_primary_schooling_completed',\n",
      "       'percentage_secondary_schooling',\n",
      "       'percentage_secondary_schooling_completed',\n",
      "       'percentage_tertiary_schooling',\n",
      "       'percentage_tertiary_schooling_completed', 'yr_sch', 'literate_pop',\n",
      "       'target', 'sex_M', 'sex_MF', 'region_code_Advanced Economies',\n",
      "       'region_code_East Asia and the Pacific',\n",
      "       'region_code_Europe and Central Asia',\n",
      "       'region_code_Latin America and the Caribbean',\n",
      "       'region_code_Middle East and North Africa',\n",
      "       'region_code_Sub-Saharan Africa'],\n",
      "      dtype='object')\n",
      "Index(['countryCode', 'year', 'agefrom', 'percentage_no_schooling',\n",
      "       'percentage_primary_schooling',\n",
      "       'percentage_primary_schooling_completed',\n",
      "       'percentage_secondary_schooling',\n",
      "       'percentage_secondary_schooling_completed',\n",
      "       'percentage_tertiary_schooling',\n",
      "       'percentage_tertiary_schooling_completed', 'yr_sch', 'literate_pop',\n",
      "       'sex_M', 'sex_MF', 'region_code_Advanced Economies',\n",
      "       'region_code_East Asia and the Pacific',\n",
      "       'region_code_Europe and Central Asia',\n",
      "       'region_code_Latin America and the Caribbean',\n",
      "       'region_code_Middle East and North Africa',\n",
      "       'region_code_Sub-Saharan Africa'],\n",
      "      dtype='object')\n"
     ]
    }
   ],
   "source": [
    "print(train1.columns)\n",
    "print(test1.columns)"
   ]
  },
  {
   "cell_type": "markdown",
   "id": "cd812fd3-92d2-45ba-87aa-22cb9b05e838",
   "metadata": {},
   "source": [
    "## Feature Engineering"
   ]
  },
  {
   "cell_type": "code",
   "execution_count": 28,
   "id": "b25670ac-a0d4-45a5-9116-3b294e37fd16",
   "metadata": {},
   "outputs": [],
   "source": [
    "percentage_schooling = (100- train1['percentage_no_schooling'])\n",
    "train2 = train1.loc[:,:]\n",
    "train2['percentage_schooling'] = percentage_schooling"
   ]
  },
  {
   "cell_type": "code",
   "execution_count": null,
   "id": "2b61c511-4a2b-4934-82a9-d287c46d1a15",
   "metadata": {},
   "outputs": [
    {
     "data": {
      "text/plain": [
       "0    91.6100\n",
       "1    99.3675\n",
       "2    31.4700\n",
       "3    87.4700\n",
       "4    79.0200\n",
       "Name: percentage_schooling, dtype: float64"
      ]
     },
     "execution_count": 29,
     "metadata": {},
     "output_type": "execute_result"
    }
   ],
   "source": [
    "train2['percentage_schooling'].head()"
   ]
  },
  {
   "cell_type": "code",
   "execution_count": null,
   "id": "d00fd84a-0e5a-4eba-b6c6-7980db64d455",
   "metadata": {},
   "outputs": [
    {
     "data": {
      "text/plain": [
       "0    46.650000\n",
       "1    69.905833\n",
       "2    18.650000\n",
       "3    55.870000\n",
       "4    34.570000\n",
       "Name: percentage_schooling_completed, dtype: float64"
      ]
     },
     "execution_count": 30,
     "metadata": {},
     "output_type": "execute_result"
    }
   ],
   "source": []
  },
  {
   "cell_type": "code",
   "execution_count": 31,
   "id": "3b899e6b-4bbe-49de-9d60-aefd37aa9d58",
   "metadata": {},
   "outputs": [
    {
     "data": {
      "text/plain": [
       "Index(['countryCode', 'year', 'agefrom', 'percentage_no_schooling',\n",
       "       'percentage_primary_schooling',\n",
       "       'percentage_primary_schooling_completed',\n",
       "       'percentage_secondary_schooling',\n",
       "       'percentage_secondary_schooling_completed',\n",
       "       'percentage_tertiary_schooling',\n",
       "       'percentage_tertiary_schooling_completed', 'yr_sch', 'literate_pop',\n",
       "       'sex_M', 'sex_MF', 'region_code_Advanced Economies',\n",
       "       'region_code_East Asia and the Pacific',\n",
       "       'region_code_Europe and Central Asia',\n",
       "       'region_code_Latin America and the Caribbean',\n",
       "       'region_code_Middle East and North Africa',\n",
       "       'region_code_Sub-Saharan Africa', 'percentage_schooling',\n",
       "       'percentage_schooling_completed'],\n",
       "      dtype='object')"
      ]
     },
     "execution_count": 31,
     "metadata": {},
     "output_type": "execute_result"
    }
   ],
   "source": [
    "test1['percentage_schooling'] = 100 - test1['percentage_no_schooling']\n",
    "test1['percentage_schooling_completed'] = (test1['percentage_primary_schooling_completed'] + test1['percentage_secondary_schooling_completed'] + test1['percentage_tertiary_schooling_completed'])\n",
    "test1.columns"
   ]
  },
  {
   "cell_type": "code",
   "execution_count": 32,
   "id": "5303a053-dc84-4640-bac8-0ea5b1bb8c45",
   "metadata": {},
   "outputs": [
    {
     "data": {
      "text/plain": [
       "Index(['countryCode', 'year', 'agefrom', 'percentage_no_schooling',\n",
       "       'percentage_primary_schooling',\n",
       "       'percentage_primary_schooling_completed',\n",
       "       'percentage_secondary_schooling',\n",
       "       'percentage_secondary_schooling_completed',\n",
       "       'percentage_tertiary_schooling',\n",
       "       'percentage_tertiary_schooling_completed', 'yr_sch', 'literate_pop',\n",
       "       'target', 'sex_M', 'sex_MF', 'region_code_Advanced Economies',\n",
       "       'region_code_East Asia and the Pacific',\n",
       "       'region_code_Europe and Central Asia',\n",
       "       'region_code_Latin America and the Caribbean',\n",
       "       'region_code_Middle East and North Africa',\n",
       "       'region_code_Sub-Saharan Africa', 'percentage_schooling',\n",
       "       'percentage_schooling_completed'],\n",
       "      dtype='object')"
      ]
     },
     "execution_count": 32,
     "metadata": {},
     "output_type": "execute_result"
    }
   ],
   "source": [
    "train2.columns"
   ]
  },
  {
   "cell_type": "markdown",
   "id": "e4f2e49d-4125-4fe0-be80-1d0e64514272",
   "metadata": {},
   "source": [
    "## Modelling"
   ]
  },
  {
   "cell_type": "code",
   "execution_count": 33,
   "id": "e02165cd-b3a3-4061-919c-8c1328def242",
   "metadata": {},
   "outputs": [],
   "source": [
    "from sklearn.preprocessing import StandardScaler\n",
    "from sklearn.model_selection import train_test_split\n",
    "from sklearn.metrics import mean_absolute_error\n",
    "from sklearn.model_selection import cross_val_score\n",
    "from sklearn.tree import DecisionTreeRegressor\n",
    "from sklearn.ensemble import RandomForestRegressor\n",
    "from sklearn.ensemble import GradientBoostingRegressor\n",
    "from sklearn.ensemble import HistGradientBoostingRegressor\n",
    "from sklearn.ensemble import AdaBoostRegressor\n",
    "from xgboost import XGBRegressor\n",
    "from catboost import CatBoostRegressor\n",
    "from lightgbm import LGBMRegressor"
   ]
  },
  {
   "cell_type": "code",
   "execution_count": 34,
   "id": "17a847a6-92e7-4818-b6ae-43dd7ffbba5f",
   "metadata": {},
   "outputs": [],
   "source": [
    "X = train2.drop(['target'], axis='columns')\n",
    "y = train2.target"
   ]
  },
  {
   "cell_type": "code",
   "execution_count": 35,
   "id": "2c5b09ed-62f1-4eac-9b9b-287c059dffee",
   "metadata": {},
   "outputs": [
    {
     "data": {
      "text/plain": [
       "(14016, 22)"
      ]
     },
     "execution_count": 35,
     "metadata": {},
     "output_type": "execute_result"
    }
   ],
   "source": [
    "X.shape"
   ]
  },
  {
   "cell_type": "code",
   "execution_count": 36,
   "id": "1f49c97c-5441-48b6-bd1b-7c0f248885ca",
   "metadata": {},
   "outputs": [
    {
     "data": {
      "text/plain": [
       "(14016,)"
      ]
     },
     "execution_count": 36,
     "metadata": {},
     "output_type": "execute_result"
    }
   ],
   "source": [
    "y.shape"
   ]
  },
  {
   "cell_type": "code",
   "execution_count": 37,
   "id": "1664b598-3944-4f5c-aef0-f73734654f1d",
   "metadata": {},
   "outputs": [
    {
     "data": {
      "text/plain": [
       "countryCode                                      int64\n",
       "year                                             int64\n",
       "agefrom                                          int64\n",
       "percentage_no_schooling                        float64\n",
       "percentage_primary_schooling                   float64\n",
       "percentage_primary_schooling_completed         float64\n",
       "percentage_secondary_schooling                 float64\n",
       "percentage_secondary_schooling_completed       float64\n",
       "percentage_tertiary_schooling                  float64\n",
       "percentage_tertiary_schooling_completed        float64\n",
       "yr_sch                                         float64\n",
       "literate_pop                                   float64\n",
       "sex_M                                            uint8\n",
       "sex_MF                                           uint8\n",
       "region_code_Advanced Economies                   uint8\n",
       "region_code_East Asia and the Pacific            uint8\n",
       "region_code_Europe and Central Asia              uint8\n",
       "region_code_Latin America and the Caribbean      uint8\n",
       "region_code_Middle East and North Africa         uint8\n",
       "region_code_Sub-Saharan Africa                   uint8\n",
       "percentage_schooling                           float64\n",
       "percentage_schooling_completed                 float64\n",
       "dtype: object"
      ]
     },
     "execution_count": 37,
     "metadata": {},
     "output_type": "execute_result"
    }
   ],
   "source": [
    "X.dtypes"
   ]
  },
  {
   "cell_type": "code",
   "execution_count": 38,
   "id": "3702a5cd-12cb-42c5-aacd-2588fe51e4e6",
   "metadata": {},
   "outputs": [],
   "source": [
    "X_train, X_test, y_train, y_test = train_test_split(X, y, test_size=0.1, random_state=42)"
   ]
  },
  {
   "cell_type": "code",
   "execution_count": 39,
   "id": "5ef0c74f-0811-4944-baa0-a94ac5f6dec6",
   "metadata": {},
   "outputs": [],
   "source": [
    "## Scaling the data\n",
    "scaler = StandardScaler()\n",
    "scaler.fit(X_train)\n",
    "X_train_scaled = scaler.transform(X_train)\n",
    "X_test_scaled = scaler.transform(X_test)"
   ]
  },
  {
   "cell_type": "code",
   "execution_count": 40,
   "id": "627b1340-cffa-44a6-9202-3d4c32544641",
   "metadata": {
    "tags": []
   },
   "outputs": [],
   "source": [
    "## Using Cross Validation\n",
    "# models = {\n",
    "#          \"DTReg\":DecisionTreeRegressor(),\n",
    "#          \"RFReg\":RandomForestRegressor(),\n",
    "#          \"GBR\":GradientBoostingRegressor(),\n",
    "#          \"HGBR\":HistGradientBoostingRegressor(),\n",
    "#          \"AdBR\":AdaBoostRegressor(),\n",
    "#          \"XGBR\":XGBRegressor(),\n",
    "#          \"CatBoostReg\":CatBoostRegressor(verbose=None),\n",
    "#          \"LGBM\":LGBMRegressor()}\n",
    "\n",
    "# accuracy = []\n",
    "# for name, model in models.items():\n",
    "#     print(\"Training {}\".format(name))\n",
    "#     scores = cross_val_score(model, X_train_scaled, y_train, cv=5)\n",
    "#     print(\"cross val scores of {} : {}\".format(name, scores))\n",
    "#     print(\"Average score of {} : {}\".format(name, scores.mean()))\n",
    "#     print(\"-----------------------------------------------------\")"
   ]
  },
  {
   "cell_type": "code",
   "execution_count": 41,
   "id": "649d4f8d-91d9-4956-8675-8904dde88fbd",
   "metadata": {},
   "outputs": [
    {
     "data": {
      "text/plain": [
       "(23, 22)"
      ]
     },
     "execution_count": 41,
     "metadata": {},
     "output_type": "execute_result"
    }
   ],
   "source": [
    "len(train2.columns), (len(test1.columns))\n"
   ]
  },
  {
   "cell_type": "code",
   "execution_count": 42,
   "id": "c12cd464-3ccb-4ff1-9239-98e0fd426e06",
   "metadata": {},
   "outputs": [
    {
     "data": {
      "text/plain": [
       "22"
      ]
     },
     "execution_count": 42,
     "metadata": {},
     "output_type": "execute_result"
    }
   ],
   "source": [
    "len(X_train.columns)"
   ]
  },
  {
   "cell_type": "code",
   "execution_count": 43,
   "id": "afee74b8-94d4-4300-b9c2-3ad6df277220",
   "metadata": {},
   "outputs": [
    {
     "data": {
      "text/plain": [
       "Index(['countryCode', 'year', 'agefrom', 'percentage_no_schooling',\n",
       "       'percentage_primary_schooling',\n",
       "       'percentage_primary_schooling_completed',\n",
       "       'percentage_secondary_schooling',\n",
       "       'percentage_secondary_schooling_completed',\n",
       "       'percentage_tertiary_schooling',\n",
       "       'percentage_tertiary_schooling_completed', 'yr_sch', 'literate_pop',\n",
       "       'sex_M', 'sex_MF', 'region_code_Advanced Economies',\n",
       "       'region_code_East Asia and the Pacific',\n",
       "       'region_code_Europe and Central Asia',\n",
       "       'region_code_Latin America and the Caribbean',\n",
       "       'region_code_Middle East and North Africa',\n",
       "       'region_code_Sub-Saharan Africa', 'percentage_schooling',\n",
       "       'percentage_schooling_completed'],\n",
       "      dtype='object')"
      ]
     },
     "execution_count": 43,
     "metadata": {},
     "output_type": "execute_result"
    }
   ],
   "source": [
    "X_train.columns"
   ]
  },
  {
   "cell_type": "code",
   "execution_count": 44,
   "id": "3f12d2c4-4506-4489-a301-c208ea313f9f",
   "metadata": {},
   "outputs": [
    {
     "data": {
      "text/plain": [
       "Index(['countryCode', 'year', 'agefrom', 'percentage_no_schooling',\n",
       "       'percentage_primary_schooling',\n",
       "       'percentage_primary_schooling_completed',\n",
       "       'percentage_secondary_schooling',\n",
       "       'percentage_secondary_schooling_completed',\n",
       "       'percentage_tertiary_schooling',\n",
       "       'percentage_tertiary_schooling_completed', 'yr_sch', 'literate_pop',\n",
       "       'sex_M', 'sex_MF', 'region_code_Advanced Economies',\n",
       "       'region_code_East Asia and the Pacific',\n",
       "       'region_code_Europe and Central Asia',\n",
       "       'region_code_Latin America and the Caribbean',\n",
       "       'region_code_Middle East and North Africa',\n",
       "       'region_code_Sub-Saharan Africa', 'percentage_schooling',\n",
       "       'percentage_schooling_completed'],\n",
       "      dtype='object')"
      ]
     },
     "execution_count": 44,
     "metadata": {},
     "output_type": "execute_result"
    }
   ],
   "source": [
    "test1.columns"
   ]
  },
  {
   "cell_type": "code",
   "execution_count": null,
   "id": "fddafcff-2afc-43d3-8f14-960290a78ad7",
   "metadata": {},
   "outputs": [],
   "source": []
  },
  {
   "cell_type": "code",
   "execution_count": null,
   "id": "5e900e11-0e66-40b0-935f-719bf9ef4a68",
   "metadata": {},
   "outputs": [],
   "source": []
  },
  {
   "cell_type": "code",
   "execution_count": null,
   "id": "dbc85b10-bffb-49e4-a1ce-db219b537d3a",
   "metadata": {},
   "outputs": [],
   "source": []
  },
  {
   "cell_type": "code",
   "execution_count": 45,
   "id": "cef3ff25-ae67-43a2-b296-0301faf74804",
   "metadata": {},
   "outputs": [],
   "source": [
    "scaler = StandardScaler().fit(X_train)\n",
    "test2_scaled = scaler.transform(test1)"
   ]
  },
  {
   "cell_type": "markdown",
   "id": "51b8f870-2c31-4e52-bdef-2deaecafda24",
   "metadata": {},
   "source": [
    "## CatBoostRegressor"
   ]
  },
  {
   "cell_type": "code",
   "execution_count": 46,
   "id": "73a559ba-9018-4689-a40d-04515f8e8abd",
   "metadata": {},
   "outputs": [],
   "source": [
    "#cbr = CatBoostRegressor(depth=5, od_type='Iter', random_seed=42)\n",
    "cbr = CatBoostRegressor()\n",
    "cbr.fit(X_train_scaled, y_train, verbose=False)\n",
    "cbr_preds = cbr.predict(X_test_scaled)"
   ]
  },
  {
   "cell_type": "code",
   "execution_count": 47,
   "id": "5df51777-c839-4bd4-9ee3-e1bb8dfb01d3",
   "metadata": {},
   "outputs": [
    {
     "name": "stdout",
     "output_type": "stream",
     "text": [
      "Training Accuracy: 0.9999447736712228\n",
      "Testing Accuracy: 0.9998623084733115\n"
     ]
    }
   ],
   "source": [
    "print(\"Training Accuracy: {}\".format(cbr.score(X_train_scaled, y_train)))\n",
    "print(\"Testing Accuracy: {}\".format(cbr.score(X_test_scaled, y_test)))"
   ]
  },
  {
   "cell_type": "code",
   "execution_count": 48,
   "id": "18b64dfa-d2f1-4503-b9f1-079028f4bf29",
   "metadata": {
    "tags": []
   },
   "outputs": [],
   "source": [
    "cbr_preds_test = cbr.predict(test2_scaled)"
   ]
  },
  {
   "cell_type": "code",
   "execution_count": 49,
   "id": "53eea73f-240d-4d49-b297-49d5c7a6cc76",
   "metadata": {},
   "outputs": [
    {
     "data": {
      "text/plain": [
       "array([87.69017179, 83.25830855, 88.52648384, ..., 96.70060171,\n",
       "       96.21531149, 99.42112171])"
      ]
     },
     "execution_count": 49,
     "metadata": {},
     "output_type": "execute_result"
    }
   ],
   "source": [
    "cbr_preds_test"
   ]
  },
  {
   "cell_type": "code",
   "execution_count": 50,
   "id": "971e1b65-3c1c-42d6-bf89-d9a0647d8090",
   "metadata": {},
   "outputs": [],
   "source": [
    "cbr_submission = pd.DataFrame({\"ID\":unique_id,\n",
    "                                 \"target\": cbr_preds_test})\n",
    "cbr_submission.to_csv(\"submission_cbr3.csv\", index=False)\n"
   ]
  },
  {
   "cell_type": "markdown",
   "id": "dd96dfe2-4143-44f1-8390-275c229f053c",
   "metadata": {},
   "source": [
    "## Random Forrest"
   ]
  },
  {
   "cell_type": "code",
   "execution_count": 51,
   "id": "f73dbce0-e014-45df-91e9-e6711cd557a6",
   "metadata": {},
   "outputs": [],
   "source": [
    "rf = RandomForestRegressor()\n",
    "rf.fit(X_train, y_train)\n",
    "rf_preds = rf.predict(X_test)"
   ]
  },
  {
   "cell_type": "code",
   "execution_count": 52,
   "id": "6244ad76-981a-4af7-a9ca-95249c7ef465",
   "metadata": {},
   "outputs": [
    {
     "name": "stdout",
     "output_type": "stream",
     "text": [
      "Training Accuracy: 0.9999447736712228\n",
      "Testing Accuracy: 0.9998623084733115\n"
     ]
    }
   ],
   "source": [
    "print(\"Training Accuracy: {}\".format(cbr.score(X_train_scaled, y_train)))\n",
    "print(\"Testing Accuracy: {}\".format(cbr.score(X_test_scaled, y_test)))"
   ]
  },
  {
   "cell_type": "code",
   "execution_count": 53,
   "id": "1c4203c3-69cf-4aac-8ce3-2675589e5139",
   "metadata": {},
   "outputs": [],
   "source": [
    "rf_preds_test = cbr.predict(test2_scaled)"
   ]
  },
  {
   "cell_type": "code",
   "execution_count": 54,
   "id": "b11f85ca-4089-4218-bd79-77efc816d631",
   "metadata": {},
   "outputs": [
    {
     "data": {
      "text/plain": [
       "array([ 9.9187977 , 58.32210662, 86.26542001, ..., 79.31282975,\n",
       "       28.43182742, 44.22606371])"
      ]
     },
     "execution_count": 54,
     "metadata": {},
     "output_type": "execute_result"
    }
   ],
   "source": [
    "rf_preds"
   ]
  },
  {
   "cell_type": "code",
   "execution_count": 55,
   "id": "9fcf7d02-697f-4da0-961c-e732ddaa37ea",
   "metadata": {},
   "outputs": [],
   "source": [
    "rf_submission = pd.DataFrame({\"ID\":unique_id,\n",
    "                                 \"target\": cbr_preds_test})\n",
    "rf_submission.to_csv(\"submission_rf2.csv\", index=False)\n"
   ]
  },
  {
   "cell_type": "markdown",
   "id": "64f527f9-f2a8-4fb1-ab5f-c5ad74156134",
   "metadata": {},
   "source": [
    "## LightGBM Regressor"
   ]
  },
  {
   "cell_type": "code",
   "execution_count": 56,
   "id": "d232b81e-3d41-4059-815f-0ff498b50945",
   "metadata": {},
   "outputs": [],
   "source": [
    "lgbm = LGBMRegressor()\n",
    "lgbm.fit(X_train_scaled, y_train)\n",
    "\n",
    "lgbm_preds = cbr.predict(test2_scaled)\n",
    "\n",
    "submission = pd.DataFrame({\"ID\": unique_id,\n",
    "                          \"target\": lgbm_preds})\n",
    "submission.to_csv(\"submission_lgbm1.csv\", index=False)"
   ]
  },
  {
   "cell_type": "code",
   "execution_count": 57,
   "id": "b18d7afb-f7ab-4c52-b64f-30d633ce2d9a",
   "metadata": {},
   "outputs": [
    {
     "data": {
      "text/plain": [
       "array([5.35554674e-06, 1.19673496e-06, 3.31248994e-07, 5.15009675e-01,\n",
       "       2.96390736e-06, 5.92779904e-06, 1.44126102e-06, 6.25915050e-06,\n",
       "       3.74338619e-06, 5.34023820e-06, 3.71363682e-06, 1.53898773e-04,\n",
       "       6.00085893e-07, 3.30406598e-07, 3.34546733e-08, 2.89175052e-07,\n",
       "       9.48262003e-09, 1.09461835e-07, 1.19094927e-07, 6.80664061e-08,\n",
       "       4.84796331e-01, 2.26380923e-06])"
      ]
     },
     "execution_count": 57,
     "metadata": {},
     "output_type": "execute_result"
    }
   ],
   "source": [
    "rf.feature_importances_"
   ]
  },
  {
   "cell_type": "code",
   "execution_count": 58,
   "id": "62c5e709-502a-4b8f-af66-4f52d9f1eb58",
   "metadata": {},
   "outputs": [
    {
     "data": {
      "text/plain": [
       "array([87.69017179, 83.25830855, 88.52648384, ..., 96.70060171,\n",
       "       96.21531149, 99.42112171])"
      ]
     },
     "execution_count": 58,
     "metadata": {},
     "output_type": "execute_result"
    }
   ],
   "source": [
    "lgbm_preds"
   ]
  },
  {
   "cell_type": "code",
   "execution_count": 59,
   "id": "fdf8a53d-5fa9-45dc-a5a9-e59c182ad946",
   "metadata": {},
   "outputs": [
    {
     "name": "stdout",
     "output_type": "stream",
     "text": [
      "Training Accuracy: 0.999958138741386\n",
      "Testing Accuracy: 0.9999109747362478\n"
     ]
    }
   ],
   "source": [
    "print(\"Training Accuracy: {}\".format(lgbm.score(X_train_scaled, y_train)))\n",
    "print(\"Testing Accuracy: {}\".format(lgbm.score(X_test_scaled, y_test)))"
   ]
  },
  {
   "cell_type": "code",
   "execution_count": null,
   "id": "44f1f6d0-0a5b-4b36-b921-82b0502409ee",
   "metadata": {},
   "outputs": [],
   "source": []
  }
 ],
 "metadata": {
  "kernelspec": {
   "display_name": "Python 3 (ipykernel)",
   "language": "python",
   "name": "python3"
  },
  "language_info": {
   "codemirror_mode": {
    "name": "ipython",
    "version": 3
   },
   "file_extension": ".py",
   "mimetype": "text/x-python",
   "name": "python",
   "nbconvert_exporter": "python",
   "pygments_lexer": "ipython3",
   "version": "3.9.7"
  }
 },
 "nbformat": 4,
 "nbformat_minor": 5
}
